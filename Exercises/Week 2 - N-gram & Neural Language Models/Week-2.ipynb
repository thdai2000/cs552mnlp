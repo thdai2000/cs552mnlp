{
 "cells": [
  {
   "cell_type": "markdown",
   "id": "3275ace2",
   "metadata": {},
   "source": [
    "# 📚  Exercise Session - Week 2\n",
    "\n",
    "Welcome to Week 2 exercise's session of CS552-Modern NLP!\n",
    "\n",
    "\n",
    "> **What will be covered:**\n",
    "1. [**TASK A:** N-gram Language Models](#ngram_lm)\n",
    "    - [Unigram Language Model](#unigram_lm)\n",
    "    - [Bi-gram Language Model](#bigram_lm)\n",
    "    - [Tri-gram Language Model](#trigram_lm)\n",
    "     \n",
    "2. [**TASK B:** Neural Language Models](#neural_lm)\n",
    "    - [Fixed-Window Neural Language Model](#fixed_window_lm)\n",
    "    - [RNN-based Language Model](#rnn_lm)\n",
    "\n",
    "> **By the end of the session you will be able to:**\n",
    "> - ✅  Compute and interpret the perplexity of a language model \n",
    "> - ✅  Implement N-gram language models for N=1,2,3\n",
    "> - ✅  Implement, train, and evaluate a fixed window language model\n",
    "> - ✅  Evaluate an RNN language model\n",
    "> - ✅  Understand the advantages and disadvantages of each of the above models"
   ]
  },
  {
   "cell_type": "code",
   "execution_count": null,
   "id": "98eb6b6c",
   "metadata": {},
   "outputs": [],
   "source": [
    "# install the libraries if needed using the requirements.txt file\n",
    "# !pip install -r requirements.txt"
   ]
  },
  {
   "cell_type": "markdown",
   "id": "272c0a7c",
   "metadata": {},
   "source": [
    "<a name=\"ngram_lm\"></a>\n",
    "## 1. Task A: N-gram Language Models "
   ]
  },
  {
   "cell_type": "markdown",
   "id": "85c137c6",
   "metadata": {},
   "source": [
    "\n",
    "In this exercise, we will better understand the functioning of different types of (non-neural) language modeling, namely,  Unigram LM, Bi-gram LM, and Tri-gram LM."
   ]
  },
  {
   "cell_type": "markdown",
   "id": "066c0427",
   "metadata": {},
   "source": [
    "### 1.1 Unigram Language Model <a name=\"unigram_lm\"></a>\n",
    "In the simple Unigram language model, we pick/generate next token independent of the previous token. In other words, during the generation, we pick the tokens according to the token probability. Therefore, for an arbitrary sequence $x_1x_2~...x_n$, its respective probability becomes:\n",
    "$$p(x_1x_2~...x_n) = \\Pi_{i=1} ^n p(x_i)$$\n",
    "Let's use an unsupervised dataset (raw corpus) to evaluate this model's perplexity. We use Huggingface's `datasets` library to download needed datasets.\n",
    " \n",
    "\n",
    "Here we use the `Penn Treebank` dataset, featuring a million words of 1989 Wall Street Journal material. The rare words in this version are already replaced with `<unk>` token. The numbers are also replaced with a special token. This token replacement helps us to end up with a more reasonable vocabulary size to work with.\n"
   ]
  },
  {
   "cell_type": "code",
   "execution_count": 24,
   "id": "69afb9de",
   "metadata": {
    "scrolled": true,
    "ExecuteTime": {
     "end_time": "2024-02-29T13:53:12.552668800Z",
     "start_time": "2024-02-29T13:53:07.065877400Z"
    }
   },
   "outputs": [],
   "source": [
    "import torch\n",
    "import datasets\n",
    "import numpy as np\n",
    "from datasets import load_dataset\n",
    "\n",
    "ptb_dataset = load_dataset(\"ptb_text_only\", split=\"train\")\n",
    "\n",
    "# splitting dataset in train/test (to be later used for language model evaluation)\n",
    "ptb_dataset = ptb_dataset.train_test_split(test_size=0.2, seed=1)\n",
    "ptb_train, ptb_test = ptb_dataset['train'], ptb_dataset['test']"
   ]
  },
  {
   "cell_type": "markdown",
   "id": "20589cd0",
   "metadata": {},
   "source": [
    "#### Let's have a look at a few samples of the training dataset (and also the structure of the dataset)"
   ]
  },
  {
   "cell_type": "code",
   "execution_count": 17,
   "id": "b6ceb684",
   "metadata": {
    "ExecuteTime": {
     "end_time": "2024-02-29T13:48:07.954734700Z",
     "start_time": "2024-02-29T13:48:07.920793900Z"
    }
   },
   "outputs": [
    {
     "name": "stdout",
     "output_type": "stream",
     "text": [
      "{'sentence': \"a former executive agreed that the departures do n't reflect major problems adding if you see any company that grows as fast as reebok did it is going to have people coming and going\"}\n",
      "\n",
      "{'sentence': 'with talk today of a second economic <unk> in west germany east germany no longer can content itself with being the economic star in a loser league'}\n",
      "\n",
      "{'sentence': 'transportation secretary sam skinner who earlier fueled the anti-takeover fires with his <unk> attacks on foreign investment in u.s. carriers now says the bill would further <unk> the jittery capital markets'}\n"
     ]
    }
   ],
   "source": [
    "print(f\"{ptb_train[0]}\\n\\n{ptb_train[1]}\\n\\n{ptb_train[2]}\")"
   ]
  },
  {
   "cell_type": "markdown",
   "id": "07207b13",
   "metadata": {},
   "source": [
    "During generation with a given language model, we often need to have a `<stop>` token in our vocabulary to terminate the generation of a given sentence/paragraph. In this dataset, every sample is a sentence, and the `<stop>` token should be added to the end of every sample (i.e., end of sentence).\n",
    "\n",
    "#### Create a new train/test dataset starting from `ptb_train` and `ptb_test` that has a `<stop>` at the end of each sentence. (Note: do not change the structure of the datasets objects, and just change the respective sentences as discussed).\n",
    "Hint: use the `.map()` functionality of the `datasets` package (read more [here](https://huggingface.co/docs/datasets/process#map]))."
   ]
  },
  {
   "cell_type": "code",
   "execution_count": 25,
   "id": "aa1b7b70",
   "metadata": {
    "ExecuteTime": {
     "end_time": "2024-02-29T13:53:16.648036600Z",
     "start_time": "2024-02-29T13:53:16.610135500Z"
    }
   },
   "outputs": [],
   "source": [
    "def add_stop_token(input_sample: dict):\n",
    "    '''\n",
    "    args:\n",
    "        input_sample: a dict representing a sample of the dataset. (look above for the dict struture)\n",
    "    output:\n",
    "        modified_sample: modified dict adding <stop> at the end of each sentence.\n",
    "    '''\n",
    "    # YOUR CODE HERE\n",
    "    # input_sample['sentence'] += '<stop>'\n",
    "    modified_sample = {}\n",
    "    modified_sample['sentence'] = input_sample['sentence'] + ' <stop>'\n",
    "    \n",
    "    return modified_sample\n",
    "    \n",
    "    \n",
    "ptb_train = ptb_train.map(add_stop_token)\n",
    "ptb_test = ptb_test.map(add_stop_token)"
   ]
  },
  {
   "cell_type": "markdown",
   "id": "2d338821",
   "metadata": {},
   "source": [
    "For both `ptb_train` and `ptb_test` datasets, filter out every sample that has less than 3 tokens. it will help remove very short sentences that are not very helpful for training/evaluating a langugage model.\n",
    "\n",
    "Hint: use `.filter()` functionality of the `datasets` package (read more [here](https://huggingface.co/docs/datasets/process#select-and-filter))."
   ]
  },
  {
   "cell_type": "code",
   "outputs": [
    {
     "data": {
      "text/plain": "{'sentence': \"a former executive agreed that the departures do n't reflect major problems adding if you see any company that grows as fast as reebok did it is going to have people coming and going <stop>\"}"
     },
     "execution_count": 82,
     "metadata": {},
     "output_type": "execute_result"
    }
   ],
   "source": [
    "ptb_train"
   ],
   "metadata": {
    "collapsed": false,
    "ExecuteTime": {
     "end_time": "2024-03-01T14:37:50.855257100Z",
     "start_time": "2024-03-01T14:37:50.761507Z"
    }
   },
   "id": "e6743198a6cc5c49",
   "execution_count": 82
  },
  {
   "cell_type": "code",
   "execution_count": 26,
   "id": "9c0222f5",
   "metadata": {
    "ExecuteTime": {
     "end_time": "2024-02-29T13:53:55.535138500Z",
     "start_time": "2024-02-29T13:53:55.286802900Z"
    }
   },
   "outputs": [
    {
     "data": {
      "text/plain": "Filter:   0%|          | 0/33654 [00:00<?, ? examples/s]",
      "application/vnd.jupyter.widget-view+json": {
       "version_major": 2,
       "version_minor": 0,
       "model_id": "d1a0a39704334f5e943c352040512749"
      }
     },
     "metadata": {},
     "output_type": "display_data"
    },
    {
     "data": {
      "text/plain": "Filter:   0%|          | 0/8414 [00:00<?, ? examples/s]",
      "application/vnd.jupyter.widget-view+json": {
       "version_major": 2,
       "version_minor": 0,
       "model_id": "f2d10c9c6b914b999857c608255f5db5"
      }
     },
     "metadata": {},
     "output_type": "display_data"
    }
   ],
   "source": [
    "# YOUR CODE HERE\n",
    "ptb_train_filtered = ptb_train.filter(lambda x: len(x['sentence'].split(' ')) >= 4)\n",
    "ptb_test_filtered = ptb_test.filter(lambda x: len(x['sentence'].split(' ')) >= 4)"
   ]
  },
  {
   "cell_type": "code",
   "outputs": [
    {
     "data": {
      "text/plain": "Dataset({\n    features: ['sentence'],\n    num_rows: 33306\n})"
     },
     "execution_count": 30,
     "metadata": {},
     "output_type": "execute_result"
    }
   ],
   "source": [
    "# YOUR CODE HERE"
   ],
   "id": "80e59769387383ba"
  },
  {
   "cell_type": "markdown",
   "id": "2733f77b",
   "metadata": {},
   "source": [
    "#### What are the 10 most frequent tokens in this dataset? Can you spot the token used to replace the numbers in this dataset? How are rare tokens replaced in this dataset?"
   ]
  },
  {
   "cell_type": "code",
   "execution_count": 44,
   "id": "28e93fb6",
   "metadata": {
    "ExecuteTime": {
     "end_time": "2024-02-29T14:05:26.499149400Z",
     "start_time": "2024-02-29T14:05:25.325895400Z"
    }
   },
   "outputs": [],
   "source": [
    "# YOUR CODE HERE\n",
    "from collections import Counter\n",
    "\n",
    "token_counter = Counter()\n",
    "\n",
    "for sentence in ptb_train_filtered['sentence']:\n",
    "    for token in sentence.split(' '):\n",
    "        if token != '<stop>':\n",
    "            token_counter.update([token])"
   ]
  },
  {
   "cell_type": "code",
   "outputs": [
    {
     "data": {
      "text/plain": "Counter({'the': 40612,\n         '<unk>': 35814,\n         'N': 25940,\n         'of': 19459,\n         'to': 18896,\n         'a': 16899,\n         'in': 14472,\n         'and': 14013,\n         \"'s\": 7850,\n         'for': 7108,\n         'that': 7100,\n         '$': 5954,\n         'is': 5923,\n         'it': 4866,\n         'said': 4840,\n         'on': 4493,\n         'at': 3946,\n         'by': 3939,\n         'as': 3860,\n         'from': 3818,\n         'with': 3678,\n         'million': 3655,\n         'mr.': 3468,\n         'was': 3245,\n         'be': 3122,\n         'are': 3111,\n         'its': 3089,\n         'he': 2897,\n         'but': 2841,\n         'has': 2818,\n         'an': 2787,\n         \"n't\": 2694,\n         'will': 2582,\n         'have': 2557,\n         'new': 2228,\n         'company': 2175,\n         'or': 2141,\n         'they': 2074,\n         'this': 1953,\n         'year': 1908,\n         'which': 1872,\n         'would': 1840,\n         'about': 1732,\n         'says': 1658,\n         'were': 1632,\n         'more': 1626,\n         'market': 1587,\n         'billion': 1505,\n         'his': 1490,\n         'had': 1466,\n         'their': 1444,\n         'one': 1413,\n         'up': 1408,\n         'u.s.': 1391,\n         'than': 1366,\n         'some': 1360,\n         'who': 1359,\n         'been': 1344,\n         'also': 1290,\n         'stock': 1280,\n         'other': 1267,\n         'share': 1203,\n         'not': 1154,\n         'we': 1094,\n         'if': 1029,\n         'when': 1018,\n         'corp.': 1015,\n         'i': 1003,\n         'years': 1002,\n         'all': 997,\n         'president': 994,\n         'last': 991,\n         'shares': 989,\n         'first': 953,\n         'trading': 952,\n         'two': 933,\n         'inc.': 923,\n         'because': 913,\n         'could': 896,\n         'sales': 889,\n         'after': 880,\n         'there': 873,\n         '&': 859,\n         'business': 852,\n         'out': 847,\n         'do': 808,\n         'only': 800,\n         'can': 795,\n         'such': 788,\n         'co.': 786,\n         'may': 780,\n         'york': 773,\n         'most': 766,\n         'over': 765,\n         'into': 763,\n         'group': 754,\n         'federal': 731,\n         'many': 727,\n         'government': 721,\n         'now': 699,\n         'no': 695,\n         'time': 681,\n         'bank': 670,\n         'companies': 667,\n         'any': 660,\n         'so': 660,\n         'people': 653,\n         'cents': 650,\n         'quarter': 636,\n         'you': 629,\n         'exchange': 627,\n         'what': 625,\n         'prices': 624,\n         'price': 613,\n         'even': 609,\n         'say': 605,\n         'while': 602,\n         'down': 600,\n         'rose': 593,\n         'much': 582,\n         'investors': 579,\n         'yesterday': 576,\n         'under': 569,\n         'big': 569,\n         'week': 568,\n         'securities': 559,\n         'them': 547,\n         'months': 546,\n         'next': 526,\n         \"'\": 523,\n         'major': 520,\n         'bonds': 520,\n         'make': 520,\n         'earnings': 520,\n         'interest': 520,\n         'earlier': 519,\n         'three': 519,\n         'american': 513,\n         'state': 513,\n         'financial': 512,\n         'net': 509,\n         'investment': 503,\n         'still': 502,\n         'chairman': 498,\n         'these': 497,\n         'since': 493,\n         'chief': 492,\n         'those': 489,\n         'did': 487,\n         'board': 484,\n         'before': 479,\n         'through': 479,\n         'program': 477,\n         'industry': 475,\n         'executive': 472,\n         'made': 470,\n         'stocks': 470,\n         'just': 466,\n         'officials': 464,\n         'rate': 462,\n         'national': 459,\n         'like': 446,\n         'money': 445,\n         'month': 441,\n         'analysts': 439,\n         'house': 431,\n         'rates': 427,\n         'she': 425,\n         'off': 422,\n         'profit': 421,\n         'expected': 420,\n         'against': 420,\n         'plan': 417,\n         'both': 417,\n         'does': 415,\n         'days': 410,\n         'unit': 408,\n         'between': 405,\n         'capital': 404,\n         'income': 399,\n         'buy': 393,\n         'recent': 392,\n         'get': 390,\n         'markets': 389,\n         'japanese': 387,\n         'sell': 387,\n         'issue': 384,\n         'firm': 383,\n         'well': 382,\n         'during': 381,\n         'ago': 378,\n         'average': 378,\n         'revenue': 377,\n         'own': 374,\n         'should': 373,\n         'back': 372,\n         'international': 372,\n         'general': 370,\n         'products': 370,\n         'her': 369,\n         'another': 368,\n         'part': 365,\n         'fell': 364,\n         'funds': 363,\n         'being': 362,\n         'offer': 361,\n         'higher': 361,\n         'each': 360,\n         'take': 360,\n         'debt': 359,\n         'japan': 357,\n         'among': 357,\n         'index': 357,\n         'including': 355,\n         'court': 350,\n         'tax': 349,\n         'world': 348,\n         'work': 348,\n         'past': 347,\n         'according': 343,\n         'sale': 343,\n         'operations': 342,\n         'report': 342,\n         'computer': 341,\n         'trade': 340,\n         'reported': 337,\n         'our': 337,\n         'then': 335,\n         'economic': 330,\n         'vice': 330,\n         'however': 329,\n         'plans': 328,\n         'how': 328,\n         'high': 326,\n         'department': 325,\n         'sold': 324,\n         'yield': 322,\n         'end': 321,\n         'less': 321,\n         'several': 320,\n         'yen': 320,\n         'way': 319,\n         'banks': 319,\n         'closed': 318,\n         'lower': 318,\n         'foreign': 317,\n         'growth': 317,\n         'insurance': 317,\n         'increase': 316,\n         'pay': 314,\n         'common': 308,\n         'very': 308,\n         'bid': 305,\n         'cash': 305,\n         'where': 301,\n         'issues': 301,\n         'day': 301,\n         'system': 300,\n         'current': 300,\n         'bill': 299,\n         'law': 299,\n         'five': 298,\n         'bush': 298,\n         'used': 298,\n         'management': 297,\n         'due': 296,\n         'early': 295,\n         'loss': 291,\n         'traders': 291,\n         'officer': 290,\n         'oil': 290,\n         'use': 290,\n         'third': 289,\n         'few': 289,\n         \"'re\": 288,\n         'friday': 287,\n         'good': 287,\n         'added': 287,\n         'california': 286,\n         'public': 285,\n         'costs': 285,\n         'office': 285,\n         'already': 284,\n         'futures': 283,\n         'bond': 283,\n         'city': 282,\n         'might': 281,\n         'assets': 281,\n         'san': 280,\n         'spokesman': 276,\n         'director': 275,\n         'oct.': 275,\n         'late': 274,\n         'least': 274,\n         'based': 274,\n         'though': 273,\n         'september': 273,\n         'small': 273,\n         'far': 272,\n         'news': 270,\n         'congress': 268,\n         'treasury': 267,\n         'agency': 267,\n         'number': 267,\n         'concern': 266,\n         'too': 266,\n         'british': 266,\n         'same': 265,\n         'going': 264,\n         'union': 264,\n         'street': 263,\n         'real': 263,\n         'him': 262,\n         'operating': 262,\n         'think': 261,\n         'research': 261,\n         'ended': 259,\n         'home': 259,\n         'until': 258,\n         'called': 258,\n         'fund': 258,\n         'today': 257,\n         'close': 257,\n         'contract': 257,\n         'case': 257,\n         'stake': 257,\n         'second': 256,\n         'wall': 255,\n         'little': 254,\n         'move': 253,\n         'dollar': 252,\n         'services': 252,\n         'former': 249,\n         'help': 249,\n         'value': 249,\n         'control': 248,\n         'analyst': 246,\n         'administration': 245,\n         'maker': 244,\n         'period': 243,\n         'put': 243,\n         'point': 243,\n         'third-quarter': 243,\n         'power': 243,\n         'credit': 242,\n         'problems': 241,\n         'results': 241,\n         'agreement': 240,\n         'offering': 240,\n         'corporate': 240,\n         'want': 239,\n         'service': 239,\n         'agreed': 238,\n         'cost': 238,\n         'economy': 238,\n         'six': 237,\n         'production': 234,\n         'four': 234,\n         'buying': 232,\n         'long': 232,\n         'firms': 232,\n         'here': 232,\n         'country': 231,\n         'life': 231,\n         'annual': 231,\n         'points': 231,\n         'recently': 231,\n         'likely': 230,\n         'without': 230,\n         'soviet': 229,\n         'committee': 229,\n         'total': 227,\n         'around': 226,\n         'although': 226,\n         'cut': 226,\n         'see': 225,\n         'whether': 225,\n         'volume': 224,\n         'compared': 224,\n         'loans': 224,\n         'half': 223,\n         'policy': 223,\n         'increased': 223,\n         'august': 221,\n         'old': 220,\n         'west': 219,\n         'large': 219,\n         'set': 219,\n         'yet': 218,\n         'continue': 218,\n         'losses': 215,\n         'john': 215,\n         'right': 214,\n         'further': 213,\n         'notes': 213,\n         'go': 213,\n         'strong': 212,\n         'political': 212,\n         'declined': 211,\n         'must': 211,\n         'takeover': 210,\n         'result': 210,\n         'selling': 210,\n         'making': 210,\n         'my': 209,\n         'monday': 209,\n         'francisco': 208,\n         'plant': 208,\n         'judge': 208,\n         'announced': 207,\n         'ual': 205,\n         'gain': 205,\n         'times': 204,\n         'largest': 204,\n         'paper': 204,\n         'earthquake': 203,\n         'expects': 203,\n         'businesses': 202,\n         'support': 202,\n         'held': 201,\n         'wo': 200,\n         'come': 199,\n         'level': 199,\n         'systems': 198,\n         'london': 198,\n         'problem': 198,\n         'demand': 198,\n         'data': 198,\n         'weeks': 197,\n         'area': 197,\n         'record': 196,\n         'official': 196,\n         'nov.': 196,\n         'composite': 195,\n         'become': 194,\n         'inc': 194,\n         'workers': 194,\n         'members': 193,\n         'fiscal': 193,\n         'industrial': 193,\n         'trust': 192,\n         'priced': 192,\n         'holding': 192,\n         'south': 192,\n         'certain': 190,\n         'ford': 190,\n         'association': 190,\n         'orders': 189,\n         'development': 188,\n         'give': 188,\n         'estimated': 187,\n         'series': 186,\n         'white': 186,\n         'drop': 186,\n         'decline': 185,\n         'currently': 185,\n         'took': 185,\n         'estate': 185,\n         'air': 185,\n         'employees': 185,\n         'executives': 184,\n         'tuesday': 183,\n         'future': 183,\n         'return': 183,\n         'senior': 182,\n         'health': 182,\n         'proposal': 181,\n         'despite': 181,\n         'others': 181,\n         'change': 181,\n         'ms.': 181,\n         'meeting': 180,\n         'commission': 180,\n         'building': 180,\n         'loan': 180,\n         'know': 180,\n         'once': 179,\n         'senate': 179,\n         'nearly': 179,\n         'deal': 179,\n         'chicago': 179,\n         'position': 178,\n         'rise': 178,\n         'comment': 177,\n         'later': 177,\n         'example': 177,\n         'show': 177,\n         'jones': 177,\n         'investor': 177,\n         'latest': 176,\n         'possible': 176,\n         'received': 176,\n         'damage': 176,\n         'dow': 176,\n         'need': 176,\n         'proposed': 175,\n         'acquisition': 175,\n         'often': 174,\n         'almost': 174,\n         'your': 174,\n         'robert': 174,\n         'filed': 174,\n         'drug': 174,\n         'paid': 174,\n         'junk': 174,\n         'washington': 173,\n         'offered': 172,\n         'charge': 172,\n         'line': 172,\n         'addition': 172,\n         'defense': 172,\n         'amount': 171,\n         'order': 171,\n         'nation': 171,\n         'product': 171,\n         'commercial': 171,\n         'east': 170,\n         'better': 170,\n         'force': 170,\n         'top': 170,\n         'purchase': 170,\n         'spending': 169,\n         'previous': 169,\n         'division': 167,\n         'dropped': 167,\n         'rights': 166,\n         'terms': 166,\n         'texas': 166,\n         'jaguar': 166,\n         'october': 165,\n         'expect': 165,\n         'within': 164,\n         'named': 163,\n         'outstanding': 163,\n         'trying': 162,\n         'changes': 161,\n         'nine': 161,\n         'began': 161,\n         'decision': 160,\n         'told': 160,\n         'keep': 159,\n         'technology': 159,\n         'industries': 159,\n         'information': 158,\n         'fed': 158,\n         'customers': 157,\n         'america': 156,\n         'finance': 156,\n         'us': 156,\n         'enough': 156,\n         'include': 155,\n         'managers': 155,\n         'came': 155,\n         'found': 155,\n         'budget': 155,\n         'banking': 154,\n         'every': 154,\n         'equipment': 154,\n         'shareholders': 154,\n         'computers': 154,\n         'provide': 153,\n         'james': 153,\n         'private': 153,\n         'auto': 153,\n         'gains': 152,\n         'again': 152,\n         'programs': 152,\n         'got': 152,\n         'action': 152,\n         'states': 151,\n         'never': 151,\n         'mortgage': 151,\n         'car': 150,\n         'ca': 149,\n         'warner': 149,\n         'lot': 149,\n         'transaction': 149,\n         'july': 148,\n         'following': 148,\n         'financing': 148,\n         'europe': 148,\n         'instead': 146,\n         'believe': 146,\n         'charges': 146,\n         'units': 146,\n         'makes': 146,\n         'tokyo': 146,\n         'best': 146,\n         'additional': 145,\n         'los': 145,\n         'run': 145,\n         'equity': 145,\n         'inflation': 144,\n         'local': 144,\n         'below': 144,\n         'gas': 144,\n         'buy-out': 144,\n         'european': 143,\n         'ltd.': 143,\n         'food': 143,\n         'things': 143,\n         'united': 143,\n         'able': 143,\n         'restructuring': 142,\n         'asked': 142,\n         'fall': 142,\n         'dollars': 142,\n         'march': 142,\n         \"'ve\": 142,\n         'consumer': 141,\n         'mrs.': 141,\n         'great': 141,\n         'low': 141,\n         'important': 141,\n         'legal': 141,\n         'sept.': 141,\n         'university': 140,\n         'corp': 140,\n         'steel': 140,\n         'above': 140,\n         'security': 140,\n         'family': 140,\n         'place': 140,\n         'away': 139,\n         'available': 139,\n         'options': 139,\n         'potential': 139,\n         'china': 139,\n         'continued': 139,\n         'pacific': 138,\n         '#': 138,\n         'bills': 138,\n         'construction': 138,\n         'head': 137,\n         'boston': 137,\n         'lost': 137,\n         'special': 137,\n         'suit': 137,\n         'raise': 137,\n         'holders': 136,\n         'marketing': 136,\n         'contracts': 136,\n         'led': 136,\n         'risk': 136,\n         'effect': 136,\n         'western': 136,\n         'co': 136,\n         'june': 135,\n         'david': 135,\n         'taken': 134,\n         'manager': 134,\n         'whose': 134,\n         'claims': 134,\n         'stores': 134,\n         'open': 134,\n         'subsidiary': 134,\n         'advertising': 133,\n         'personal': 133,\n         'included': 133,\n         'full': 133,\n         'approval': 132,\n         'figures': 132,\n         'posted': 132,\n         'ibm': 131,\n         'working': 131,\n         'via': 131,\n         'account': 131,\n         'reports': 130,\n         'either': 130,\n         'effort': 130,\n         'tv': 130,\n         'gold': 130,\n         'face': 130,\n         'noted': 129,\n         'statement': 129,\n         'lawyers': 129,\n         'meanwhile': 129,\n         'rather': 128,\n         'fact': 128,\n         'd.': 128,\n         'similar': 128,\n         'increases': 127,\n         'institute': 127,\n         'countries': 127,\n         'cars': 127,\n         'school': 126,\n         'soon': 126,\n         'efforts': 125,\n         'airlines': 125,\n         'network': 125,\n         'individual': 125,\n         'profits': 124,\n         'long-term': 124,\n         'left': 124,\n         'cases': 124,\n         'find': 124,\n         'directors': 124,\n         'secretary': 123,\n         'groups': 123,\n         'reserve': 123,\n         'domestic': 123,\n         'angeles': 123,\n         'probably': 123,\n         'known': 122,\n         'bought': 122,\n         'percentage': 122,\n         'germany': 121,\n         'portfolio': 121,\n         'parent': 121,\n         'telephone': 121,\n         'gained': 121,\n         'getting': 121,\n         'center': 121,\n         'slightly': 120,\n         'north': 120,\n         'something': 120,\n         'talks': 120,\n         'biggest': 120,\n         'reduce': 120,\n         'remain': 119,\n         'along': 119,\n         'looking': 119,\n         'look': 119,\n         'dealers': 119,\n         'machines': 119,\n         'failed': 118,\n         'strategy': 118,\n         'reached': 118,\n         'clients': 118,\n         'view': 118,\n         'coming': 117,\n         'magazine': 117,\n         'approved': 117,\n         'ad': 117,\n         'previously': 117,\n         'party': 117,\n         'clear': 117,\n         'standard': 116,\n         'labor': 116,\n         'bay': 116,\n         'hard': 116,\n         'limited': 116,\n         'why': 116,\n         'process': 116,\n         'chemical': 116,\n         'given': 116,\n         'calls': 116,\n         'helped': 116,\n         'attorney': 116,\n         'marks': 116,\n         'joint': 116,\n         'savings': 115,\n         'manufacturing': 115,\n         'using': 115,\n         'role': 115,\n         'having': 115,\n         'saying': 115,\n         'canadian': 115,\n         'payments': 115,\n         'britain': 115,\n         'itself': 114,\n         'communications': 114,\n         'different': 114,\n         'question': 114,\n         'performance': 114,\n         'goods': 114,\n         'free': 114,\n         'black': 113,\n         'act': 113,\n         'calif.': 113,\n         'levels': 113,\n         'makers': 113,\n         'merrill': 113,\n         'estimates': 113,\n         'went': 112,\n         'eastern': 112,\n         'team': 112,\n         'activity': 112,\n         'medical': 112,\n         'owns': 112,\n         'hong': 112,\n         'short': 112,\n         'german': 112,\n         'job': 111,\n         'property': 111,\n         'investments': 111,\n         'canada': 111,\n         'lynch': 111,\n         'institutions': 110,\n         'growing': 110,\n         'aid': 110,\n         'military': 110,\n         'year-earlier': 110,\n         'dividend': 110,\n         'buyers': 109,\n         'name': 109,\n         'lead': 109,\n         'huge': 109,\n         'plants': 109,\n         'range': 109,\n         'raised': 109,\n         'remains': 109,\n         'television': 108,\n         'interests': 108,\n         'me': 107,\n         'particularly': 107,\n         'michael': 107,\n         'completed': 107,\n         'leaders': 107,\n         'vote': 107,\n         'legislation': 107,\n         'toward': 107,\n         'transportation': 106,\n         'includes': 106,\n         'seeking': 106,\n         'concerns': 106,\n         'pressure': 106,\n         'ever': 106,\n         'district': 106,\n         'taking': 106,\n         'especially': 106,\n         'started': 106,\n         'call': 106,\n         's&p': 106,\n         'seems': 106,\n         'william': 106,\n         'kong': 106,\n         'leading': 105,\n         'scheduled': 105,\n         'airline': 105,\n         'gm': 105,\n         'heavy': 105,\n         'project': 105,\n         'french': 105,\n         'central': 105,\n         'lines': 105,\n         'fees': 105,\n         'staff': 105,\n         'allow': 104,\n         'abortion': 104,\n         'deficit': 104,\n         'involved': 104,\n         'columbia': 104,\n         \"'m\": 104,\n         'outside': 104,\n         'acquired': 104,\n         'congressional': 103,\n         'richard': 103,\n         'always': 103,\n         'issued': 103,\n         'meet': 102,\n         'hours': 102,\n         'really': 102,\n         'energy': 102,\n         'producers': 102,\n         'independent': 102,\n         'care': 102,\n         'begin': 102,\n         'venture': 102,\n         'rep.': 102,\n         'campaign': 101,\n         'hold': 101,\n         'currency': 101,\n         'april': 101,\n         'drexel': 101,\n         'themselves': 101,\n         'basis': 101,\n         'wants': 100,\n         'needed': 100,\n         'conference': 100,\n         'means': 100,\n         'morgan': 100,\n         'impact': 100,\n         'estimate': 100,\n         'acquire': 99,\n         \"'ll\": 99,\n         'volatility': 99,\n         'adds': 99,\n         'j.': 99,\n         'daily': 99,\n         'plc': 99,\n         'study': 99,\n         'consider': 99,\n         'bad': 98,\n         'dec.': 98,\n         'wednesday': 98,\n         'hit': 98,\n         'reduced': 98,\n         'try': 98,\n         'related': 98,\n         'turn': 98,\n         'man': 98,\n         'start': 98,\n         'significant': 98,\n         'leader': 97,\n         'competition': 97,\n         'taxes': 97,\n         'test': 97,\n         'accounts': 97,\n         'base': 97,\n         'quickly': 97,\n         'key': 97,\n         'earned': 97,\n         'doing': 97,\n         'projects': 97,\n         'reserves': 97,\n         'parts': 96,\n         'build': 96,\n         'prime': 96,\n         'partners': 96,\n         'community': 96,\n         'brokerage': 96,\n         'reason': 95,\n         'young': 95,\n         'rally': 95,\n         'considered': 95,\n         'press': 95,\n         'traded': 95,\n         'women': 95,\n         'measure': 95,\n         'beginning': 95,\n         'supply': 95,\n         'course': 95,\n         'produce': 95,\n         'journal': 95,\n         'convertible': 94,\n         'thought': 94,\n         'retail': 94,\n         'imports': 94,\n         'machine': 94,\n         'exports': 94,\n         'brokers': 94,\n         'longer': 93,\n         'holdings': 93,\n         'thing': 93,\n         'auction': 93,\n         'yields': 93,\n         'changed': 93,\n         'kind': 93,\n         'manufacturers': 93,\n         'majority': 93,\n         'thursday': 92,\n         'history': 92,\n         'poor': 92,\n         'done': 92,\n         'seven': 92,\n         'simply': 92,\n         'continuing': 92,\n         'subject': 92,\n         'motor': 92,\n         'stock-index': 92,\n         'fourth': 92,\n         'situation': 91,\n         'december': 91,\n         'protection': 91,\n         'turned': 91,\n         'worth': 91,\n         'war': 91,\n         'largely': 91,\n         'shareholder': 90,\n         'benefits': 90,\n         'children': 90,\n         'spokeswoman': 90,\n         'boost': 90,\n         'advanced': 90,\n         'cbs': 90,\n         'indeed': 90,\n         'areas': 90,\n         'near': 90,\n         'block': 90,\n         'rules': 90,\n         'generally': 90,\n         'men': 90,\n         'moody': 90,\n         'a.': 90,\n         'recession': 90,\n         'filing': 89,\n         'preferred': 89,\n         'electric': 89,\n         'pilots': 89,\n         'summer': 89,\n         'red': 89,\n         'settlement': 89,\n         'smaller': 89,\n         'eight': 89,\n         'planned': 89,\n         'returns': 89,\n         'arbitrage': 88,\n         'hurt': 88,\n         'housing': 88,\n         'dr.': 88,\n         'space': 88,\n         'became': 88,\n         'shearson': 88,\n         'seek': 88,\n         'form': 88,\n         'created': 87,\n         'caused': 87,\n         'note': 87,\n         'george': 87,\n         ...})"
     },
     "execution_count": 45,
     "metadata": {},
     "output_type": "execute_result"
    }
   ],
   "source": [
    "token_counter"
   ],
   "metadata": {
    "collapsed": false,
    "ExecuteTime": {
     "end_time": "2024-02-29T14:05:53.564797400Z",
     "start_time": "2024-02-29T14:05:53.512905100Z"
    }
   },
   "id": "87774572c5a63943",
   "execution_count": 45
  },
  {
   "cell_type": "code",
   "outputs": [
    {
     "data": {
      "text/plain": "[\"a former executive agreed that the departures do n't reflect major problems adding if you see any company that grows as fast as reebok did it is going to have people coming and going <stop>\",\n 'with talk today of a second economic <unk> in west germany east germany no longer can content itself with being the economic star in a loser league <stop>',\n 'transportation secretary sam skinner who earlier fueled the anti-takeover fires with his <unk> attacks on foreign investment in u.s. carriers now says the bill would further <unk> the jittery capital markets <stop>',\n \"separately the company 's board adopted a proposal to <unk> its N shareholder rights plan further <unk> the company from takeover <stop>\",\n \"thomas p. <unk> chief financial officer would n't comment about the details of the negotiations <stop>\",\n 'before the recent <unk> in global financial markets b.a.t officials holders and analysts had expected a substantial part of the restructuring to be complete by the end of the first half <stop>',\n 'the latest period includes gains of $ N million from early retirement of debt and tax loss carry-forward <stop>',\n 'this city of more than N is known for <unk> <unk> and rich residents <stop>',\n 'some bankers are reporting more inquiries than usual about cds since friday <stop>',\n 'mr. <unk> said in the filing that he sold the stock to decrease his position in the <unk> ill. banking concern <stop>']"
     },
     "execution_count": 46,
     "metadata": {},
     "output_type": "execute_result"
    }
   ],
   "source": [
    "ptb_train_filtered['sentence'][:10]"
   ],
   "metadata": {
    "collapsed": false,
    "ExecuteTime": {
     "end_time": "2024-02-29T14:08:27.484043Z",
     "start_time": "2024-02-29T14:08:27.186838200Z"
    }
   },
   "id": "8f52fb4be04e9eaa",
   "execution_count": 46
  },
  {
   "cell_type": "code",
   "outputs": [],
   "source": [
    "ptb_train_filtered"
   ],
   "metadata": {
    "collapsed": false,
    "ExecuteTime": {
     "end_time": "2024-02-29T13:54:22.597115Z",
     "start_time": "2024-02-29T13:54:22.577168500Z"
    }
   },
   "id": "e928e5d174312ce3",
   "execution_count": 30
  },
  {
   "cell_type": "markdown",
   "id": "a6eaec09",
   "metadata": {},
   "source": [
    "#### Now let's create a dictionary of the word probabilites (in the format of `{word: Prob(word)}`in the following function. We will use these probabilities to estimate sequence probabilities for a given sequence, as mentioned above."
   ]
  },
  {
   "cell_type": "code",
   "execution_count": 55,
   "id": "0e015a74",
   "metadata": {
    "ExecuteTime": {
     "end_time": "2024-02-29T14:21:24.341109600Z",
     "start_time": "2024-02-29T14:21:23.442475900Z"
    }
   },
   "outputs": [],
   "source": [
    "from collections import defaultdict, Counter\n",
    "\n",
    "def get_word_probability_dict(train_dataset: datasets.arrow_dataset.Dataset):\n",
    "    '''\n",
    "    args: \n",
    "        train_dataset: a Dataset object that can be iterated to get all the sentences\n",
    "    output:\n",
    "        word_prob_dict: a dictionary containing the word probabilities (and outputing zero for non-seen tokens)\n",
    "    '''\n",
    "    # YOUR CODE HERE\n",
    "    token_counter = Counter()\n",
    "    n_token = 0\n",
    "    \n",
    "    for sentence in train_dataset['sentence']:\n",
    "        for token in sentence.split(' '):\n",
    "            token_counter.update([token])\n",
    "            n_token += 1\n",
    "    \n",
    "    word_prob_dict = defaultdict()\n",
    "    for word in token_counter.keys():\n",
    "        word_prob_dict[word] = token_counter[word] / n_token\n",
    "                \n",
    "    return word_prob_dict\n",
    "\n",
    "word_prob_dict = get_word_probability_dict(ptb_train)"
   ]
  },
  {
   "cell_type": "markdown",
   "id": "766d403e",
   "metadata": {},
   "source": [
    "Let's also get a sense of how high the top-k probabilities are:"
   ]
  },
  {
   "cell_type": "code",
   "execution_count": 56,
   "id": "37d958f6",
   "metadata": {
    "scrolled": true,
    "ExecuteTime": {
     "end_time": "2024-02-29T14:21:29.356221600Z",
     "start_time": "2024-02-29T14:21:29.342231200Z"
    }
   },
   "outputs": [
    {
     "data": {
      "text/plain": "[('the', 0.05466398927608168),\n ('<unk>', 0.04834107659095681),\n ('<stop>', 0.04529401947747816),\n ('N', 0.034946945675170794),\n ('of', 0.026189348220486346),\n ('to', 0.025431621561966697),\n ('a', 0.022746604361706137),\n ('in', 0.01947882402975995),\n ('and', 0.01885972231942418),\n (\"'s\", 0.010565105274208222),\n ('for', 0.00956646729797096),\n ('that', 0.009555700311704253),\n ('$', 0.008017367148848202),\n ('is', 0.007972953330498026),\n ('it', 0.006554402889859114),\n ('said', 0.006514026691358955),\n ('on', 0.00604835453532379),\n ('at', 0.005310815976054223),\n ('by', 0.005301394863070852),\n ('as', 0.0051950708736871005)]"
     },
     "execution_count": 56,
     "metadata": {},
     "output_type": "execute_result"
    }
   ],
   "source": [
    "sorted(word_prob_dict.items(), key=lambda item: item[1], reverse=True)[:20]"
   ]
  },
  {
   "cell_type": "markdown",
   "id": "e1b408c2",
   "metadata": {},
   "source": [
    "#### Now let's analyze the Unigram language model for different sequences. We first create a function that can output the probability for a given string."
   ]
  },
  {
   "cell_type": "code",
   "execution_count": 57,
   "id": "fc167228",
   "metadata": {
    "ExecuteTime": {
     "end_time": "2024-02-29T14:21:37.188573200Z",
     "start_time": "2024-02-29T14:21:37.173568200Z"
    }
   },
   "outputs": [],
   "source": [
    "def unigram_lm_seq_probability(input_sentence: str,\n",
    "                               word_prob_dict: dict):\n",
    "    '''\n",
    "    args:\n",
    "        input_sentence: The input sequence string. Here we assume\n",
    "        word_prob_dict: A dictionary containing the probability for a given token\n",
    "    output:\n",
    "        probability: The probability of the input_sentence according to the Unigram language model\n",
    "    '''\n",
    "    # YOUR CODE HERE\n",
    "    probability = 1\n",
    "    for token in input_sentence.split(' '):\n",
    "        if token in word_prob_dict:\n",
    "            probability *= word_prob_dict[token]\n",
    "    \n",
    "    return probability"
   ]
  },
  {
   "cell_type": "markdown",
   "id": "3427e046",
   "metadata": {},
   "source": [
    "#### Let's investigate a major issue with Unigram language model. What are the probabilities for the two following sequences?\n",
    "- the the the the \\<stop>\n",
    "- i love computer science \\<stop>\n",
    "\n",
    "DIscussion: How can we avoid having large probability values for sequences like `the the the <stop>`"
   ]
  },
  {
   "cell_type": "code",
   "execution_count": 58,
   "id": "2c753d2d",
   "metadata": {
    "ExecuteTime": {
     "end_time": "2024-02-29T14:21:41.824533800Z",
     "start_time": "2024-02-29T14:21:41.806550300Z"
    }
   },
   "outputs": [
    {
     "name": "stdout",
     "output_type": "stream",
     "text": [
      "probability for seq1 is 4.0443259736782917e-07, and for seq2 is 2.3529893814050696e-17\n"
     ]
    }
   ],
   "source": [
    "seq1 = \"the the the the <stop>\"\n",
    "seq2 = \"i love computer science <stop>\"\n",
    "\n",
    "prob_seq1 = unigram_lm_seq_probability(seq1, word_prob_dict)\n",
    "prob_seq2 = unigram_lm_seq_probability(seq2, word_prob_dict)\n",
    "print(f\"probability for seq1 is {prob_seq1}, and for seq2 is {prob_seq2}\")"
   ]
  },
  {
   "cell_type": "markdown",
   "id": "06747969",
   "metadata": {},
   "source": [
    "#### Now let's formally evaluate the Unigram model in terms of perplexity. We first compute the entropy as the average negative log-likelihood:\n",
    "$$H(W_{test}∣M)= \\frac{1}{|W_{test}|} \\sum_{w\\in W_{test}} −log_2P(w∣M)$$\n",
    ", where $W_{test}$ is the input sequence and M is the Unigram language model. (note that the logarithm is in base 2).\n",
    "\n",
    "In order to get a reliable value, we will do the above calculation for all the sentences in `ptb_test` dataset and then an average is taken over all these samples."
   ]
  },
  {
   "cell_type": "code",
   "execution_count": 60,
   "id": "aa48300f",
   "metadata": {
    "ExecuteTime": {
     "end_time": "2024-02-29T14:31:49.990554Z",
     "start_time": "2024-02-29T14:31:49.938691300Z"
    }
   },
   "outputs": [],
   "source": [
    "def get_unigram_lm_entropy(input_sentence: str,\n",
    "                           word_prob_dict: dict):\n",
    "    '''\n",
    "    args:\n",
    "        input_sentence: the input string that we would like to have its respective entropy value.\n",
    "        word_prob_dict: A dictionary containing the probability for a given token\n",
    "    output:\n",
    "        entropy: entropy value as defined above\n",
    "    '''\n",
    "\n",
    "    # YOUR CODE HERE\n",
    "    entropy_sum = 0\n",
    "    for token in input_sentence.split():\n",
    "        if token in word_prob_dict.keys():\n",
    "            entropy_sum -= np.log2(word_prob_dict[token])\n",
    "        else:\n",
    "            entropy_sum -= np.log2(word_prob_dict['<unk>'])\n",
    "    entropy = entropy_sum / len(input_sentence.split())\n",
    "\n",
    "    return entropy"
   ]
  },
  {
   "cell_type": "markdown",
   "id": "b07afa63",
   "metadata": {},
   "source": [
    "Now compute the average entropy for all the sentences in the `ptb_test` given above function, and then compute the average entropy. Then compute the perplexity as $2^{\\bar{H}}$, where $\\bar{H}$ is the average entropy over the test dataset."
   ]
  },
  {
   "cell_type": "code",
   "execution_count": 61,
   "id": "ac66be2c",
   "metadata": {
    "ExecuteTime": {
     "end_time": "2024-02-29T14:42:02.307583200Z",
     "start_time": "2024-02-29T14:42:02.115672700Z"
    }
   },
   "outputs": [
    {
     "name": "stdout",
     "output_type": "stream",
     "text": [
      "The perplexity for the Unigram language model is 675.0358840348426\n"
     ]
    }
   ],
   "source": [
    "def get_unigram_lm_perplexity(test_dataset: datasets.arrow_dataset.Dataset,\n",
    "                              word_prob_dict: dict):\n",
    "    '''\n",
    "    args:\n",
    "        test_dataset: the test dataset samples are used to compute the perplexity for the Unigram LM.\n",
    "        word_prob_dict: A dictionary containing the probability for a given token\n",
    "    output:\n",
    "        perplexity: entropy value as defined above\n",
    "    '''  \n",
    "    # YOUR CODE HERE\n",
    "    h_all_sentence = 0\n",
    "    for sentence in test_dataset['sentence']:\n",
    "        h_sen = get_unigram_lm_entropy(sentence, word_prob_dict)\n",
    "        h_all_sentence += h_sen\n",
    "    perplexity = np.power(2, h_all_sentence/len(test_dataset['sentence']))\n",
    "\n",
    "    return perplexity\n",
    "      \n",
    "unigram_lm_perplexity = get_unigram_lm_perplexity(ptb_test, word_prob_dict)\n",
    "print(f\"The perplexity for the Unigram language model is {unigram_lm_perplexity}\")"
   ]
  },
  {
   "cell_type": "markdown",
   "id": "4a3cec0a",
   "metadata": {},
   "source": [
    "As discussed in the lectures, the models with lower perplexities are desired; however, we should be careful when comparing language models with different vocabualry sizes.\n",
    "#### In the `ptb_train` dataset, replace every token that is appearing less than 10 times with the `<unk>` token. (Note: the same token replacement should be done for the test dataset). What is the Unigram language model perplexity for the new dataset?\n",
    "Discussion: What would happen to the vocabulary size and perplexity as we increase the rare token threshold to higher values? (instead of 10 here)"
   ]
  },
  {
   "cell_type": "code",
   "outputs": [],
   "source": [
    "# the perplexity will become lower"
   ],
   "metadata": {
    "collapsed": false,
    "ExecuteTime": {
     "end_time": "2024-03-01T15:02:44.091562400Z",
     "start_time": "2024-03-01T15:02:44.064634800Z"
    }
   },
   "id": "b47c94fc52c827a2",
   "execution_count": 99
  },
  {
   "cell_type": "code",
   "outputs": [
    {
     "data": {
      "text/plain": "0"
     },
     "execution_count": 63,
     "metadata": {},
     "output_type": "execute_result"
    }
   ],
   "source": [
    "token_counter = Counter()\n",
    "\n",
    "for sentence in ptb_train['sentence']:\n",
    "    for token in sentence.split(' '):\n",
    "        token_counter.update([token])"
   ],
   "metadata": {
    "collapsed": false,
    "ExecuteTime": {
     "end_time": "2024-03-01T14:20:31.569642200Z",
     "start_time": "2024-03-01T14:20:30.434676600Z"
    }
   },
   "id": "937e9354d1720fba",
   "execution_count": 63
  },
  {
   "cell_type": "code",
   "outputs": [
    {
     "data": {
      "text/plain": "['biscuits',\n 'nurses',\n 'sufficiently',\n 'backlash',\n 'flat-rolled',\n 'callers',\n 'ferc',\n 'isi',\n 'backdrop',\n 'tighten']"
     },
     "execution_count": 76,
     "metadata": {},
     "output_type": "execute_result"
    }
   ],
   "source": [
    "[word for (word, count) in token_counter.most_common()[-10:]]"
   ],
   "metadata": {
    "collapsed": false,
    "ExecuteTime": {
     "end_time": "2024-03-01T14:23:29.803345Z",
     "start_time": "2024-03-01T14:23:29.752482300Z"
    }
   },
   "id": "34865db15887f81d",
   "execution_count": 76
  },
  {
   "cell_type": "code",
   "execution_count": 98,
   "id": "3a14c853",
   "metadata": {
    "ExecuteTime": {
     "end_time": "2024-03-01T15:02:17.522938400Z",
     "start_time": "2024-03-01T15:02:16.376009500Z"
    }
   },
   "outputs": [],
   "source": [
    "def remove_rare_token(train_dataset: datasets.arrow_dataset.Dataset,\n",
    "                      test_dataset: datasets.arrow_dataset.Dataset,\n",
    "                      rare_token_threshold: int):\n",
    "    '''\n",
    "    Note that the tokens that are considered rare here, are identified based on the train_dataset, so that\n",
    "    we have the same token mapping (to <unk>) for both the train and test datasets. \n",
    "    args:\n",
    "        train_dataset: the input dataset where its rare tokens has to be replaced with <unk> token.\n",
    "        rare_token_threshold: every word that is appearing less than this threshold in the train dataset will\n",
    "                              be replace with the <unk> token\n",
    "    output:\n",
    "        cleaned_train_dataset: the cleaned train dataset where rare tokens are replace with <unk> token.\n",
    "        cleaned_test_dataset: the cleaned test dataset where rare tokens are replace with <unk> token.\n",
    "    '''\n",
    "    \n",
    "    # YOUR CODE HERE\n",
    "    token_counter = Counter()\n",
    "    \n",
    "    for sentence in train_dataset['sentence']:\n",
    "        for token in sentence.split(' '):\n",
    "            token_counter.update([token])\n",
    "    \n",
    "    rare_tokens = [word for (word, count) in token_counter.most_common()[-rare_token_threshold:]]\n",
    "    \n",
    "    def replace_token(row: dict):\n",
    "        sentence = row['sentence']\n",
    "        new_sentence = sentence\n",
    "        for token in sentence.split():\n",
    "            if token in rare_tokens:\n",
    "                new_sentence = new_sentence.replace(token, '<unk>')\n",
    "        return {'sentence': new_sentence}\n",
    "    \n",
    "    cleaned_train_dataset = train_dataset.map(replace_token)\n",
    "    cleaned_test_dataset = test_dataset.map(replace_token)\n",
    "    \n",
    "    return cleaned_train_dataset, cleaned_test_dataset\n",
    "\n",
    "cleaned_train_dataset, cleaned_test_dataset = remove_rare_token(train_dataset=ptb_train,\n",
    "                                                                test_dataset=ptb_test,\n",
    "                                                                rare_token_threshold=10)"
   ]
  },
  {
   "cell_type": "markdown",
   "id": "6f09a7d3",
   "metadata": {},
   "source": [
    "##### Now, follow similar steps to compute the perplexity given the two new datasets (`cleaned_train_dataset` and `cleaned_test_dataset`)"
   ]
  },
  {
   "cell_type": "code",
   "execution_count": 97,
   "id": "d2083f50",
   "metadata": {
    "ExecuteTime": {
     "end_time": "2024-03-01T15:02:10.879400400Z",
     "start_time": "2024-03-01T15:02:09.541971600Z"
    }
   },
   "outputs": [
    {
     "name": "stdout",
     "output_type": "stream",
     "text": [
      "The perplexity for the Unigram language model after replacing rare tokens is  668.6954165809494\n"
     ]
    }
   ],
   "source": [
    "cleaned_unigram_lm_perplexity = -1\n",
    "\n",
    "\n",
    "cleaned_word_prob_dict = get_word_probability_dict(cleaned_train_dataset)\n",
    "\n",
    "# YOUR CODE HERE\n",
    "cleaned_unigram_lm_perplexity = get_unigram_lm_perplexity(cleaned_test_dataset, cleaned_word_prob_dict)\n",
    "\n",
    "print(\"The perplexity for the Unigram language model after replacing rare tokens is \",\n",
    "      cleaned_unigram_lm_perplexity)"
   ]
  },
  {
   "cell_type": "markdown",
   "id": "4abe9eac",
   "metadata": {},
   "source": [
    "## 1.2 Bi-gram Language Model <a name='bigram_lm'></a>\n",
    "In the Bi-gram language model, we pick/generate next token conditioned only on the previous token. Therefore, for an arbitrary sequence $x_1x_2~...x_n$, its respective probability becomes:\n",
    "$$p(x_1x_2~...x_n) = p(x_1) ~\\Pi_{i=2} ^n p(x_i|x_{i-1})$$\n",
    "Let's use the same dataset (`Penn Treebank`) to evaluate this model's perplexity. (We use the dataset that already has the `<stop>` token at the end).\n",
    "\n",
    "We estimate $p(x_i|x_{i-1})$ as the $\\frac{count(x_{i-1},~x_i)}{count(x_{i-1})}$ according to the training dataset frequencies."
   ]
  },
  {
   "cell_type": "code",
   "execution_count": 113,
   "id": "f96966fc",
   "metadata": {
    "ExecuteTime": {
     "end_time": "2024-03-01T15:43:19.143419700Z",
     "start_time": "2024-03-01T15:43:15.417948500Z"
    }
   },
   "outputs": [],
   "source": [
    "def get_first_order_conditional_probabilities(train_dataset: datasets.arrow_dataset.Dataset):\n",
    "    '''\n",
    "    In this function the conditional probabilities have to be computed based train_dataset. The output of the\n",
    "    function is a dictionary having keys like (x_{i-1}, x_i) as a tuple and the value being p(x_i|x_{i-1}).\n",
    "    args:\n",
    "        train_dataset: a Dataset object that can be iterated to get all the sentences\n",
    "    output:\n",
    "        word_prob_dict: \n",
    "        first_order_condition_prob: a dictionary having containing the first order conditional probabilities\n",
    "                                    as discussed above.\n",
    "        word_prob_dict: a dictionary containing the word probabilities\n",
    "    '''\n",
    "    first_order_condition_prob = defaultdict(float) # in order to get zeroes \n",
    "    # let's first get the word frequencies (later used for computation of conditional probabilities)\n",
    "    word_prob_dict = get_word_probability_dict(train_dataset)\n",
    "    \n",
    "    # YOUR CODE HERE\n",
    "    bi_tuple_counter = Counter()\n",
    "    tuple_count = 0\n",
    "    for sentence in train_dataset['sentence']:\n",
    "        for i in range(len(sentence.split())-1):\n",
    "            bi_tuple_counter.update([(sentence.split()[i], sentence.split()[i+1])])\n",
    "            tuple_count += 1\n",
    "    for tuple in bi_tuple_counter.keys():\n",
    "        first_order_condition_prob[tuple] = bi_tuple_counter[tuple] / tuple_count\n",
    "\n",
    "    return word_prob_dict, first_order_condition_prob\n",
    "\n",
    "word_prob_dict, first_order_condition_prob = get_first_order_conditional_probabilities(ptb_train)"
   ]
  },
  {
   "cell_type": "code",
   "outputs": [
    {
     "data": {
      "text/plain": "[(('$', 'N'), 0.008328657744044616),\n (('N', 'N'), 0.008122837833646762),\n (('of', 'the'), 0.00594058289326405),\n (('in', 'the'), 0.005122942153327375),\n (('N', 'million'), 0.005014393296473713),\n (('<unk>', '<unk>'), 0.004460371208895931),\n (('the', '<unk>'), 0.004333495921664378),\n (('<unk>', '<stop>'), 0.003754098776640286),\n (('N', '<stop>'), 0.0028702009422604665),\n (('a', '<unk>'), 0.002764471536234172),\n (('N', 'to'), 0.002302081600545846),\n (('<unk>', 'and'), 0.0022344147806890174),\n (('for', 'the'), 0.0021484215304542983),\n (('N', 'billion'), 0.0021004908663890447),\n (('and', '<unk>'), 0.0020356434973595842),\n (('to', 'N'), 0.002007448989085906),\n (('of', '<unk>'), 0.0019750253045711756),\n (('to', 'the'), 0.001953879423365917),\n (('on', 'the'), 0.0019256849150922383),\n (('the', 'company'), 0.0019059487593006633),\n (('<unk>', 'of'), 0.0017818929228964782),\n (('<unk>', 'the'), 0.0016507884594238733),\n (('to', '<unk>'), 0.0014125448645112904),\n (('that', 'the'), 0.001401267061201819),\n (('and', 'the'), 0.0013110446347260481),\n (('mr.', '<unk>'), 0.0012659334214881626),\n (('to', 'be'), 0.0012645236960744787),\n (('a', 'share'), 0.001257475069006059),\n (('<unk>', 'in'), 0.0011813498966671272),\n (('said', '<stop>'), 0.0011813498966671272),\n (('to', '$'), 0.0011813498966671272),\n (('in', 'a'), 0.0011799401712534433),\n (('at', 'the'), 0.0011348289580155578),\n (('of', 'N'), 0.0011263706055334541),\n (('from', 'the'), 0.0010981760972597757),\n (('in', 'N'), 0.001093946921018724),\n (('of', 'a'), 0.0010911274701913562),\n (('new', 'york'), 0.0010728010398134652),\n (('said', 'it'), 0.0010685718635724134),\n (('by', 'the'), 0.0010657524127450455),\n (('<unk>', 'a'), 0.0010601135110903097),\n (('<unk>', 'to'), 0.001041787080712419),\n (('with', 'the'), 0.001022050924920844),\n (('N', 'of'), 0.0010150022978524242),\n ((\"'s\", '<unk>'), 0.0009980855928882172),\n (('the', 'u.s.'), 0.0009938564166471655),\n (('N', 'a'), 0.0009882175149924298),\n (('said', 'the'), 0.0009628424575461192),\n (('of', '$'), 0.0009459257525819121),\n (('will', 'be'), 0.0009149117934808658),\n (('in', '<unk>'), 0.0009078631664124462),\n (('N', 'cents'), 0.0008148212891093073),\n (('N', 'in'), 0.0007823976045945771),\n (('N', 'and'), 0.0007809878791808931),\n (('more', 'than'), 0.0007781684283535253),\n (('the', 'new'), 0.0007725295266987896),\n (('million', 'or'), 0.00076548089963037),\n (('as', 'a'), 0.000747154469252479),\n (('of', 'its'), 0.0007344669405293237),\n (('a', 'year'), 0.0007330572151156398),\n (('from', '$'), 0.0007076821576693291),\n (('it', 'is'), 0.0007034529814282774),\n (('it', \"'s\"), 0.0007034529814282774),\n (('about', 'N'), 0.0006949946289461739),\n (('has', 'been'), 0.0006851265510503864),\n (('for', 'a'), 0.0006724390223272311),\n (('the', 'N'), 0.0006470639648809205),\n (('to', 'a'), 0.0006400153378125009),\n (('company', \"'s\"), 0.0006357861615714491),\n (('the', 'first'), 0.0006315569853303974),\n (('is', 'a'), 0.0006259180836756616),\n (('million', '<stop>'), 0.0006230986328482938),\n (('at', 'N'), 0.0006216889074346099),\n (('he', 'said'), 0.000618869456607242),\n (('a', 'N'), 0.0006104111041251385),\n (('<unk>', 'for'), 0.0005949041245746153),\n (('the', 'market'), 0.0005850360466788279),\n (('do', \"n't\"), 0.0005751679687830405),\n (('have', 'been'), 0.0005751679687830405),\n (('cents', 'a'), 0.000565299890887253),\n (('<unk>', \"'s\"), 0.0005554318129914655),\n (('from', 'N'), 0.0005526123621640977),\n (('with', 'a'), 0.0005483831859230459),\n (('<unk>', 'said'), 0.0005441540096819942),\n (('<unk>', 'by'), 0.0005441540096819942),\n (('this', 'year'), 0.0005427442842683102),\n (('year', '<stop>'), 0.0005427442842683102),\n (('would', 'be'), 0.0005272373047177871),\n (('but', 'the'), 0.0005244178538904192),\n (('an', '<unk>'), 0.0005201886776493675),\n (('as', 'the'), 0.0005187789522356835),\n (('or', 'N'), 0.0004990427964441086),\n (('for', '<unk>'), 0.0004891747185483212),\n (('<unk>', 'with'), 0.0004863552677209533),\n (('according', 'to'), 0.0004835358168935855),\n (('<unk>', 'is'), 0.0004835358168935855),\n (('rose', 'N'), 0.00048212609147990155),\n (('and', 'a'), 0.00047648718982516583),\n (('at', 'a'), 0.00047507746441148195),\n (('at', '$'), 0.0004708482881704302),\n (('is', \"n't\"), 0.0004708482881704302),\n (('a', '$'), 0.00046943856275674623),\n (('<unk>', 'that'), 0.00046802883734306235),\n (('one', 'of'), 0.0004666191119293784),\n (('because', 'of'), 0.00046238993568832663),\n (('million', 'in'), 0.00045534130861990703),\n (('on', 'a'), 0.0004539315832062231),\n (('is', 'the'), 0.0004539315832062231),\n (('says', '<stop>'), 0.0004497024069651713),\n (('and', 'N'), 0.0004497024069651713),\n (('it', 'was'), 0.0004468829561378035),\n (('is', '<unk>'), 0.0004468829561378035),\n (('did', \"n't\"), 0.00044406350531043566),\n (('a', 'new'), 0.00044406350531043566),\n (('said', 'that'), 0.0004398343290693839),\n (('its', '<unk>'), 0.0004341954274146482),\n (('last', 'year'), 0.00043278570200096423),\n (('over', 'the'), 0.00043137597658728035),\n (('N', 'years'), 0.00042573707493254463),\n (('about', '$'), 0.0004243273495188607),\n (('that', 'it'), 0.00042150789869149286),\n (('the', 'government'), 0.0004045911937272858),\n (('N', 'from'), 0.0004045911937272858),\n (('by', '<unk>'), 0.0004045911937272858),\n (('such', 'as'), 0.0004031814683136019),\n (('the', 'past'), 0.00040177174289991795),\n (('he', 'says'), 0.0003989522920725501),\n (('vice', 'president'), 0.0003933133904178144),\n (('and', 'other'), 0.0003933133904178144),\n (('up', 'N'), 0.0003904939395904466),\n (('in', 'new'), 0.0003904939395904466),\n (('the', 'stock'), 0.00038908421417676263),\n (('stock', 'exchange'), 0.00038908421417676263),\n (('oct.', 'N'), 0.00038767448876307874),\n (('<unk>', 'on'), 0.00038485503793571086),\n (('does', \"n't\"), 0.00038485503793571086),\n (('from', 'a'), 0.000383445312522027),\n (('part', 'of'), 0.00038203558710834303),\n (('or', '$'), 0.00038203558710834303),\n (('billion', '<stop>'), 0.00037780641086729126),\n (('company', 'said'), 0.00037075778379887166),\n (('million', 'of'), 0.00036793833297150383),\n (('expected', 'to'), 0.0003665286075578199),\n (('by', 'a'), 0.0003665286075578199),\n (('year', 'earlier'), 0.00036370915673045206),\n (('the', 'same'), 0.0003608897059030842),\n (('than', 'N'), 0.0003566605296620324),\n (('it', 'will'), 0.0003566605296620324),\n (('with', '<unk>'), 0.0003524313534209807),\n (('president', 'of'), 0.00035102162800729675),\n (('share', '<stop>'), 0.00035102162800729675),\n (('chief', 'executive'), 0.0003482021771799289),\n (('at', 'least'), 0.0003482021771799289),\n (('to', 'make'), 0.00034115355011150926),\n (('N', '<unk>'), 0.00034115355011150926),\n (('are', '<unk>'), 0.0003397438246978254),\n (('that', '<unk>'), 0.0003355146484567736),\n (('after', 'the'), 0.0003355146484567736),\n (('be', '<unk>'), 0.00033410492304308966),\n (('<unk>', 'who'), 0.00033410492304308966),\n (('to', 'buy'), 0.0003326951976294057),\n (('they', 'are'), 0.0003298757468020379),\n (('out', 'of'), 0.00032705629597467006),\n (('<unk>', 'N'), 0.0003256465705609861),\n (('million', 'from'), 0.00032141739431993435),\n (('during', 'the'), 0.00032000766890625046),\n (('as', '<unk>'), 0.00032000766890625046),\n (('and', 'chief'), 0.0003171882180788826),\n (('&', 'co.'), 0.0003157784926651987),\n (('when', 'the'), 0.00031436876725151475),\n (('net', 'income'), 0.0003129590418378308),\n (('the', 'federal'), 0.0003129590418378308),\n (('some', 'of'), 0.0003115493164241469),\n (('years', '<stop>'), 0.000310139591010463),\n (('about', 'the'), 0.00030872986559677903),\n (('N', 'days'), 0.00030732014018309514),\n (('<unk>', 'at'), 0.0003030909639420434),\n (('had', 'been'), 0.0003030909639420434),\n (('last', 'week'), 0.00030168123852835943),\n (('number', 'of'), 0.00030168123852835943),\n (('wall', 'street'), 0.00030027151311467554),\n (('<unk>', 'as'), 0.0002988617877009916),\n (('to', 'sell'), 0.00029745206228730766),\n (('market', '<stop>'), 0.00029745206228730766),\n (('compared', 'with'), 0.00029604233687362377),\n (('it', '<stop>'), 0.0002932228860462559),\n (('it', 'has'), 0.000291813160632572),\n (('san', 'francisco'), 0.000291813160632572),\n (('million', 'shares'), 0.0002889937098052041),\n (('in', 'its'), 0.0002889937098052041),\n (('if', 'the'), 0.0002861742589778363),\n (('york', 'stock'), 0.0002861742589778363),\n (('the', 'most'), 0.0002819450827367845),\n (('the', 'two'), 0.0002819450827367845),\n (('wo', \"n't\"), 0.0002819450827367845),\n (('<unk>', 'an'), 0.00028053535732310063),\n (('sales', 'of'), 0.00028053535732310063),\n (('the', 'world'), 0.0002791256319094167),\n (('the', 'state'), 0.0002791256319094167),\n (('of', 'this'), 0.00027771590649573275),\n (('it', 'would'), 0.00027771590649573275),\n (('there', 'is'), 0.00027771590649573275),\n (('his', '<unk>'), 0.00027630618108204886),\n (('nov.', 'N'), 0.00027630618108204886),\n (('<unk>', 'from'), 0.000273486730254681),\n (('from', '<unk>'), 0.0002720770048409971),\n (('the', '$'), 0.0002720770048409971),\n (('in', 'an'), 0.0002720770048409971),\n (('plans', 'to'), 0.00027066727942731315),\n (('stock', 'market'), 0.0002692575540136292),\n (('may', 'be'), 0.0002678478285999453),\n (('inc', '<stop>'), 0.0002664381031862614),\n (('to', 'have'), 0.00026502837777257743),\n (('are', \"n't\"), 0.00026502837777257743),\n (('<unk>', 'says'), 0.00026502837777257743),\n (('fell', 'N'), 0.00026361865235889354),\n (('as', 'well'), 0.00026361865235889354),\n (('have', 'to'), 0.0002622089269452096),\n (('on', '<unk>'), 0.0002607992015315257),\n (('into', 'the'), 0.0002607992015315257),\n (('that', \"'s\"), 0.0002607992015315257),\n (('third', 'quarter'), 0.0002593894761178418),\n (('shares', '<stop>'), 0.0002593894761178418),\n (('going', 'to'), 0.00025657002529047394),\n (('<unk>', 'was'), 0.00025657002529047394),\n (('was', '<unk>'), 0.00025516029987679),\n (('earlier', '<stop>'), 0.00025375057446310606),\n (('have', 'a'), 0.00025234084904942217),\n (('agreed', 'to'), 0.00025093112363573823),\n (('the', 'sale'), 0.00025093112363573823),\n (('to', 'yield'), 0.00025093112363573823),\n (('the', 'end'), 0.0002495213982220543),\n (('was', 'a'), 0.0002495213982220543),\n (('president', 'and'), 0.0002481116728083704),\n ((\"n't\", 'be'), 0.0002481116728083704),\n (('to', 'get'), 0.00024670194739468646),\n (('the', 'third'), 0.0002452922219810025),\n (('the', 'next'), 0.0002452922219810025),\n (('said', 'he'), 0.0002452922219810025),\n (('likely', 'to'), 0.00024388249656731863),\n (('sale', 'of'), 0.00024388249656731863),\n (('billion', 'in'), 0.0002424727711536347),\n (('be', 'a'), 0.0002424727711536347),\n (('end', 'of'), 0.00024106304573995077),\n (('in', 'september'), 0.00024106304573995077),\n (('under', 'the'), 0.00024106304573995077),\n (('of', 'their'), 0.00023824359491258292),\n (('N', 'on'), 0.00023824359491258292),\n (('would', 'have'), 0.00023824359491258292),\n (('and', 'that'), 0.000236833869498899),\n (('program', 'trading'), 0.000236833869498899),\n (('that', 'he'), 0.00023401441867153117),\n (('company', '<stop>'), 0.00023401441867153117),\n (('the', 'big'), 0.00023401441867153117),\n (('<unk>', '&'), 0.0002297852424304794),\n (('N', 'the'), 0.00022837551701679546),\n (('next', 'year'), 0.00022696579160311154),\n (('the', 'dollar'), 0.00022696579160311154),\n (('that', 'would'), 0.00022555606618942763),\n (('the', 'year'), 0.00022555606618942763),\n (('is', 'that'), 0.0002241463407757437),\n (('of', 'his'), 0.0002241463407757437),\n (('for', '$'), 0.00022273661536205977),\n (('said', 'they'), 0.00022273661536205977),\n ((\"'s\", 'N'), 0.00022273661536205977),\n (('before', 'the'), 0.00022132688994837586),\n (('executive', 'officer'), 0.00022132688994837586),\n (('there', 'are'), 0.00022132688994837586),\n (('this', 'is'), 0.00021991716453469194),\n (('years', 'ago'), 0.00021991716453469194),\n (('most', 'of'), 0.00021991716453469194),\n (('of', 'new'), 0.00021991716453469194),\n (('in', 'addition'), 0.00021991716453469194),\n (('has', \"n't\"), 0.000218507439121008),\n (('trying', 'to'), 0.0002170977137073241),\n (('chairman', 'of'), 0.0002170977137073241),\n (('N', 'for'), 0.00021568798829364017),\n (('the', 'bank'), 0.00021568798829364017),\n (('<unk>', 'or'), 0.00021427826287995623),\n (('<unk>', 'inc.'), 0.00021427826287995623),\n (('can', 'be'), 0.00021427826287995623),\n (('all', 'of'), 0.00021427826287995623),\n (('big', 'board'), 0.00021286853746627232),\n (('want', 'to'), 0.00021286853746627232),\n (('real', 'estate'), 0.00021286853746627232),\n (('at', '<unk>'), 0.0002114588120525884),\n (('that', 'they'), 0.0002114588120525884),\n (('which', 'is'), 0.0002114588120525884),\n (('ca', \"n't\"), 0.0002100490866389045),\n (('is', 'expected'), 0.0002100490866389045),\n (('their', '<unk>'), 0.0002100490866389045),\n (('but', 'it'), 0.0002100490866389045),\n (('director', 'of'), 0.00020863936122522054),\n (('could', 'be'), 0.00020863936122522054),\n (('a', 'major'), 0.00020863936122522054),\n (('or', '<unk>'), 0.00020722963581153663),\n (('the', 'latest'), 0.00020581991039785272),\n (('the', 'house'), 0.00020581991039785272),\n (('than', 'the'), 0.00020581991039785272),\n (('composite', 'trading'), 0.00020441018498416877),\n (('the', 'issue'), 0.00020441018498416877),\n (('for', 'example'), 0.00020441018498416877),\n (('to', 'pay'), 0.00020300045957048486),\n (('ago', '<stop>'), 0.00020300045957048486),\n (('would', \"n't\"), 0.00020159073415680094),\n (('there', \"'s\"), 0.00020159073415680094),\n (('the', 'current'), 0.00020159073415680094),\n (('a', 'few'), 0.00020159073415680094),\n (('<unk>', 'are'), 0.000200181008743117),\n (('since', 'the'), 0.000200181008743117),\n (('that', 'a'), 0.000200181008743117),\n (('able', 'to'), 0.000200181008743117),\n (('we', \"'re\"), 0.000200181008743117),\n (('the', 'nation'), 0.0001987712833294331),\n (('that', 'is'), 0.0001987712833294331),\n (('to', 'take'), 0.0001987712833294331),\n (('says', '<unk>'), 0.0001987712833294331),\n (('been', '<unk>'), 0.0001987712833294331),\n (('dow', 'jones'), 0.0001987712833294331),\n (('has', 'a'), 0.0001987712833294331),\n (('N', 'shares'), 0.0001987712833294331),\n (('earlier', 'this'), 0.0001987712833294331),\n (('by', 'N'), 0.0001987712833294331),\n (('N', 'points'), 0.00019736155791574917),\n (('share', 'from'), 0.00019736155791574917),\n (('sept.', 'N'), 0.00019736155791574917),\n (('was', \"n't\"), 0.00019595183250206526),\n (('for', 'N'), 0.00019595183250206526),\n (('as', 'much'), 0.00019454210708838132),\n (('all', 'the'), 0.00019454210708838132),\n (('a', 'lot'), 0.00019454210708838132),\n (('well', 'as'), 0.00019454210708838132),\n (('he', 'was'), 0.00019454210708838132),\n (('of', 'about'), 0.0001931323816746974),\n (('<unk>', 'mr.'), 0.0001917226562610135),\n ((\"'s\", 'a'), 0.0001917226562610135),\n (('#', 'N'), 0.0001917226562610135),\n (('yield', 'N'), 0.0001917226562610135),\n (('interest', 'rates'), 0.0001917226562610135),\n (('the', 'second'), 0.00019031293084732955),\n (('this', 'week'), 0.00019031293084732955),\n (('stake', 'in'), 0.00019031293084732955),\n (('he', 'is'), 0.00018890320543364563),\n (('billion', 'yen'), 0.00018890320543364563),\n (('to', 'do'), 0.00018749348001996172),\n (('based', 'on'), 0.00018749348001996172),\n (('the', 'treasury'), 0.00018749348001996172),\n (('business', '<stop>'), 0.00018749348001996172),\n (('<unk>', 'which'), 0.00018749348001996172),\n (('year', 'ago'), 0.0001860837546062778),\n (('in', 'august'), 0.0001860837546062778),\n (('down', 'N'), 0.0001860837546062778),\n (('<unk>', 'corp.'), 0.0001860837546062778),\n (('<unk>', 'will'), 0.0001860837546062778),\n (('corp.', 'said'), 0.00018467402919259386),\n (('common', 'shares'), 0.00018467402919259386),\n (('trading', '<stop>'), 0.00018326430377890994),\n (('the', 'other'), 0.00018326430377890994),\n (('could', \"n't\"), 0.00018326430377890994),\n (('<unk>', 'up'), 0.00018185457836522603),\n (('said', 'its'), 0.0001804448529515421),\n (('and', 'its'), 0.00017903512753785817),\n (('N', 'yen'), 0.00017903512753785817),\n (('says', 'the'), 0.00017762540212417426),\n (('as', 'N'), 0.00017762540212417426),\n (('quarter', '<stop>'), 0.00017762540212417426),\n (('the', 'national'), 0.00017762540212417426),\n (('of', 'an'), 0.00017762540212417426),\n (('while', 'the'), 0.00017621567671049034),\n (('based', 'in'), 0.00017621567671049034),\n (('for', 'its'), 0.00017621567671049034),\n (('billion', 'from'), 0.00017621567671049034),\n (('was', 'the'), 0.0001748059512968064),\n (('which', 'has'), 0.0001748059512968064),\n (('and', 'to'), 0.0001748059512968064),\n (('with', 'N'), 0.0001748059512968064),\n (('because', 'the'), 0.0001748059512968064),\n (('they', 'were'), 0.0001733962258831225),\n (('los', 'angeles'), 0.0001733962258831225),\n (('spokesman', 'said'), 0.0001733962258831225),\n (('than', '$'), 0.0001733962258831225),\n (('much', 'as'), 0.00017198650046943857),\n (('the', 'country'), 0.00017198650046943857),\n (('he', 'has'), 0.00016916704964207072),\n (('in', 'which'), 0.00016916704964207072),\n (('inc.', 'said'), 0.00016916704964207072),\n (('the', 'board'), 0.0001677573242283868),\n (('had', 'a'), 0.0001677573242283868),\n (('has', '<unk>'), 0.00016634759881470286),\n (('against', 'the'), 0.00016634759881470286),\n (('nation', \"'s\"), 0.00016634759881470286),\n (('in', 'his'), 0.00016634759881470286),\n (('said', '<unk>'), 0.00016634759881470286),\n (('in', 'this'), 0.00016634759881470286),\n (('the', 'industry'), 0.00016493787340101894),\n (('in', 'recent'), 0.00016493787340101894),\n (('more', '<unk>'), 0.00016352814798733503),\n (('nine', 'months'), 0.00016352814798733503),\n ((\"n't\", 'have'), 0.00016352814798733503),\n (('value', 'of'), 0.00016352814798733503),\n (('have', '<unk>'), 0.00016352814798733503),\n (('the', 'fed'), 0.00016352814798733503),\n (('that', 'mr.'), 0.00016352814798733503),\n (('two', 'years'), 0.00016211842257365111),\n (('a', 'result'), 0.00016070869715996717),\n (('the', 'soviet'), 0.00016070869715996717),\n (('they', 'have'), 0.00016070869715996717),\n (('is', 'to'), 0.00016070869715996717),\n (('declined', 'to'), 0.00015929897174628326),\n (('were', '<unk>'), 0.00015929897174628326),\n (('the', 'quarter'), 0.00015929897174628326),\n (('the', 'economy'), 0.00015929897174628326),\n (('up', 'to'), 0.00015788924633259934),\n (('them', '<stop>'), 0.00015788924633259934),\n (('white', 'house'), 0.00015788924633259934),\n (('days', 'N'), 0.00015788924633259934),\n (('corp', '<stop>'), 0.0001564795209189154),\n (('loss', 'of'), 0.0001564795209189154),\n (('last', 'month'), 0.0001564795209189154),\n (('continue', 'to'), 0.0001564795209189154),\n (('year', \"'s\"), 0.0001564795209189154),\n (('<unk>', 'out'), 0.0001564795209189154),\n (('unit', 'of'), 0.0001550697955052315),\n (('N', 'stake'), 0.0001550697955052315),\n (('co', '<stop>'), 0.0001550697955052315),\n (('to', 'keep'), 0.00015366007009154757),\n (('<unk>', 'has'), 0.00015366007009154757),\n (('new', '<unk>'), 0.00015366007009154757),\n (('as', 'an'), 0.00015366007009154757),\n (('is', 'not'), 0.00015225034467786366),\n (('and', 'mr.'), 0.00015225034467786366),\n (('markets', '<stop>'), 0.00015084061926417972),\n (('priced', 'at'), 0.00015084061926417972),\n (('million', 'to'), 0.00015084061926417972),\n (('the', 'firm'), 0.00015084061926417972),\n (('shares', 'outstanding'), 0.00015084061926417972),\n (('through', 'the'), 0.00015084061926417972),\n (('the', 'president'), 0.00015084061926417972),\n (('N', 'at'), 0.00015084061926417972),\n (('&', '<unk>'), 0.00015084061926417972),\n (('up', 'from'), 0.0001494308938504958),\n (('hong', 'kong'), 0.0001494308938504958),\n (('the', 'average'), 0.0001494308938504958),\n (('N', 'or'), 0.0001494308938504958),\n (('<unk>', 'it'), 0.0001494308938504958),\n (('into', 'a'), 0.00014802116843681189),\n (('says', 'mr.'), 0.00014802116843681189),\n (('the', 'senate'), 0.00014661144302312794),\n (('and', 'in'), 0.00014661144302312794),\n (('i', \"'m\"), 0.00014661144302312794),\n (('the', 'number'), 0.00014661144302312794),\n (('<unk>', 'president'), 0.00014661144302312794),\n (('less', 'than'), 0.00014661144302312794),\n (('the', 'price'), 0.00014661144302312794),\n (('<unk>', 'its'), 0.00014520171760944403),\n (('officer', 'of'), 0.00014520171760944403),\n (('closed', 'at'), 0.00014379199219576012),\n (('should', 'be'), 0.00014379199219576012),\n (('the', 'american'), 0.00014379199219576012),\n (('week', '<stop>'), 0.0001423822667820762),\n (('be', 'the'), 0.0001423822667820762),\n (('<unk>', 'about'), 0.0001423822667820762),\n (('only', 'N'), 0.0001423822667820762),\n (('six', 'months'), 0.0001423822667820762),\n (('the', 'last'), 0.0001423822667820762),\n (('japan', \"'s\"), 0.0001423822667820762),\n (('merrill', 'lynch'), 0.0001423822667820762),\n (('also', 'said'), 0.0001423822667820762),\n (('rose', 'to'), 0.00014097254136839226),\n (('but', 'he'), 0.00014097254136839226),\n (('such', 'a'), 0.00014097254136839226),\n (('other', '<unk>'), 0.00014097254136839226),\n (('million', 'for'), 0.00014097254136839226),\n (('and', '$'), 0.00014097254136839226),\n (('was', 'named'), 0.00013956281595470834),\n (('mr.', 'bush'), 0.00013956281595470834),\n (('this', 'month'), 0.00013956281595470834),\n (('dec.', 'N'), 0.00013815309054102443),\n (('it', '<unk>'), 0.00013815309054102443),\n (('<unk>', 'but'), 0.00013815309054102443),\n (('chairman', 'and'), 0.00013815309054102443),\n (('the', 'previous'), 0.00013815309054102443),\n (('the', 'dow'), 0.00013815309054102443),\n (('N', 'up'), 0.00013815309054102443),\n (('plan', 'to'), 0.00013815309054102443),\n (('were', \"n't\"), 0.00013815309054102443),\n (('<unk>', 'group'), 0.00013815309054102443),\n (('their', 'own'), 0.0001367433651273405),\n (('share', 'a'), 0.0001367433651273405),\n ((\"n't\", '<unk>'), 0.0001367433651273405),\n (('is', 'in'), 0.0001367433651273405),\n (('shares', 'of'), 0.0001367433651273405),\n (('the', 'japanese'), 0.00013533363971365657),\n (('a', 'good'), 0.00013533363971365657),\n (('so', 'far'), 0.00013533363971365657),\n (('million', 'a'), 0.00013533363971365657),\n (('among', 'the'), 0.00013392391429997266),\n (('lot', 'of'), 0.00013392391429997266),\n (('to', 'help'), 0.00013392391429997266),\n (('interest', 'in'), 0.00013392391429997266),\n (('between', 'the'), 0.00013392391429997266),\n (('of', 'all'), 0.00013251418888628872),\n (('a', 'company'), 0.00013251418888628872),\n (('exchange', 'composite'), 0.00013251418888628872),\n (('rather', 'than'), 0.00013251418888628872),\n (('will', 'have'), 0.0001311044634726048),\n (('many', 'of'), 0.0001311044634726048),\n (('they', \"'re\"), 0.0001311044634726048),\n (('bank', 'of'), 0.0001311044634726048),\n (('N', 'when'), 0.0001311044634726048),\n (('and', 'it'), 0.0001311044634726048),\n (('much', 'of'), 0.0001311044634726048),\n (('the', 'agency'), 0.0001311044634726048),\n (('increase', 'in'), 0.0001296947380589209),\n (('group', '<stop>'), 0.0001296947380589209),\n (('to', 'its'), 0.0001296947380589209),\n (('if', 'you'), 0.00012828501264523697),\n (('months', '<stop>'), 0.00012828501264523697),\n (('president', 'bush'), 0.00012828501264523697),\n (('<unk>', 'he'), 0.00012828501264523697),\n (('not', 'to'), 0.00012828501264523697),\n (('its', 'N'), 0.00012687528723155303),\n (('its', 'own'), 0.00012687528723155303),\n (('billion', 'of'), 0.00012687528723155303),\n (('maker', 'of'), 0.00012687528723155303),\n (('the', 'city'), 0.00012687528723155303),\n (('he', '<unk>'), 0.00012687528723155303),\n (('the', 'time'), 0.00012687528723155303),\n (('holding', 'company'), 0.00012687528723155303),\n (('moody', \"'s\"), 0.00012687528723155303),\n (('the', 'best'), 0.00012687528723155303),\n (('month', '<stop>'), 0.00012546556181786912),\n (('is', 'an'), 0.00012546556181786912),\n (('market', \"'s\"), 0.00012546556181786912),\n (('months', 'N'), 0.00012546556181786912),\n (('the', 'british'), 0.00012546556181786912),\n (('an', 'analyst'), 0.0001240558364041852),\n (('to', 'see'), 0.0001240558364041852),\n (('cents', '<stop>'), 0.0001240558364041852),\n (('a', 'spokesman'), 0.0001240558364041852),\n (('we', 'have'), 0.0001240558364041852),\n (('said', 'mr.'), 0.0001240558364041852),\n (('on', 'its'), 0.0001240558364041852),\n (('expects', 'to'), 0.0001240558364041852),\n (('the', 'group'), 0.0001240558364041852),\n (('years', 'old'), 0.00012264611099050126),\n (('are', 'the'), 0.00012264611099050126),\n (('because', 'it'), 0.00012264611099050126),\n (('gained', 'N'), 0.00012264611099050126),\n (('the', 'only'), 0.00012264611099050126),\n (('to', 'acquire'), 0.00012264611099050126),\n (('corp.', 'and'), 0.00012264611099050126),\n (('a', 'unit'), 0.00012123638557681734),\n (('a', 'big'), 0.00012123638557681734),\n (('when', 'it'), 0.00012123638557681734),\n (('used', 'to'), 0.00012123638557681734),\n (('but', 'they'), 0.00012123638557681734),\n (('in', 'their'), 0.00012123638557681734),\n (('that', 'are'), 0.00012123638557681734),\n (('yesterday', '<stop>'), 0.00011982666016313343),\n (('the', 'white'), 0.00011982666016313343),\n (('<unk>', 'his'), 0.00011982666016313343),\n (('inc.', 'and'), 0.00011982666016313343),\n (('the', 'way'), 0.00011982666016313343),\n (('says', 'he'), 0.00011982666016313343),\n (('and', 'is'), 0.00011982666016313343),\n (('result', 'of'), 0.0001184169347494495),\n (('that', 'was'), 0.0001184169347494495),\n (('<unk>', 'into'), 0.0001184169347494495),\n (('<unk>', 'have'), 0.0001184169347494495),\n (('down', 'from'), 0.0001184169347494495),\n (('for', 'an'), 0.0001184169347494495),\n (('john', '<unk>'), 0.0001184169347494495),\n (('corp.', \"'s\"), 0.0001184169347494495),\n (('it', 'also'), 0.0001184169347494495),\n (('rate', 'of'), 0.0001184169347494495),\n (('i', 'do'), 0.0001184169347494495),\n (('five', 'years'), 0.00011700720933576559),\n (('u.s.', 'and'), 0.00011700720933576559),\n (('the', 'case'), 0.00011700720933576559),\n (('he', 'had'), 0.00011700720933576559),\n (('and', 'his'), 0.00011700720933576559),\n (('comment', '<stop>'), 0.00011700720933576559),\n (('days', '<stop>'), 0.00011700720933576559),\n (('up', 'the'), 0.00011700720933576559),\n (('be', 'able'), 0.00011700720933576559),\n (('the', 'day'), 0.00011700720933576559),\n (('in', 'japan'), 0.00011559748392208166),\n (('on', 'N'), 0.00011559748392208166),\n (('group', 'of'), 0.00011559748392208166),\n (('i', 'think'), 0.00011559748392208166),\n (('federal', 'reserve'), 0.00011559748392208166),\n (('officials', 'said'), 0.00011559748392208166),\n (('than', 'a'), 0.00011559748392208166),\n (('the', 'exchange'), 0.00011559748392208166),\n (('<unk>', 'their'), 0.00011559748392208166),\n (('price', 'of'), 0.00011559748392208166),\n (('<unk>', 'were'), 0.00011559748392208166),\n (('to', 'an'), 0.00011418775850839773),\n (('head', 'of'), 0.00011418775850839773),\n (('it', 'had'), 0.00011418775850839773),\n (('share', 'in'), 0.00011418775850839773),\n (('the', 'year-earlier'), 0.00011418775850839773),\n (('period', '<stop>'), 0.00011418775850839773),\n (('of', 'these'), 0.00011277803309471381),\n (('may', 'have'), 0.00011277803309471381),\n (('was', 'N'), 0.00011277803309471381),\n (('he', 'added'), 0.00011277803309471381),\n (('this', '<unk>'), 0.00011277803309471381),\n (('inc.', 'a'), 0.00011136830768102989),\n (('three', 'years'), 0.00011136830768102989),\n (('that', 'has'), 0.00011136830768102989),\n (('the', 'securities'), 0.00011136830768102989),\n (('dropped', 'N'), 0.00011136830768102989),\n (('kind', 'of'), 0.00011136830768102989),\n (('it', 'does'), 0.00011136830768102989),\n (('the', 'bill'), 0.00010995858226734597),\n (('said', 'in'), 0.00010995858226734597),\n (('first', 'boston'), 0.00010995858226734597),\n (('there', 'was'), 0.00010995858226734597),\n (('if', 'they'), 0.00010995858226734597),\n (('march', 'N'), 0.00010995858226734597),\n (('have', 'the'), 0.00010995858226734597),\n (('say', 'the'), 0.00010995858226734597),\n (('some', '<unk>'), 0.00010995858226734597),\n (('share', 'of'), 0.00010995858226734597),\n (('time', '<stop>'), 0.00010995858226734597),\n (('the', 'largest'), 0.00010854885685366204),\n (('we', 'are'), 0.00010854885685366204),\n ((\"'s\", 'largest'), 0.00010854885685366204),\n (('third-quarter', 'net'), 0.00010854885685366204),\n (('as', 'it'), 0.00010854885685366204),\n (('noted', 'that'), 0.00010854885685366204),\n (('analyst', 'at'), 0.00010854885685366204),\n (('it', 'to'), 0.00010854885685366204),\n (('a', 'number'), 0.00010854885685366204),\n (('with', 'an'), 0.00010854885685366204),\n (('way', 'to'), 0.00010854885685366204),\n (('due', 'N'), 0.00010854885685366204),\n (('cost', 'of'), 0.00010854885685366204),\n (('it', 'expects'), 0.00010854885685366204),\n (('as', 'many'), 0.00010713913143997812),\n (('amount', 'of'), 0.00010713913143997812),\n (('the', 'plan'), 0.00010713913143997812),\n (('of', 'them'), 0.00010713913143997812),\n (('with', 'its'), 0.00010713913143997812),\n (('securities', 'and'), 0.00010713913143997812),\n (('outstanding', '<stop>'), 0.00010713913143997812),\n (('when', 'he'), 0.00010713913143997812),\n (('industrial', 'average'), 0.00010713913143997812),\n (('to', 'close'), 0.00010713913143997812),\n (('in', 'july'), 0.00010713913143997812),\n (('try', 'to'), 0.00010713913143997812),\n (('N', 'marks'), 0.00010713913143997812),\n (('<unk>', 'had'), 0.00010713913143997812),\n (('failed', 'to'), 0.00010713913143997812),\n (('the', 'transaction'), 0.00010713913143997812),\n (('the', 'recent'), 0.0001057294060262942),\n (('to', 'his'), 0.0001057294060262942),\n (('if', 'it'), 0.0001057294060262942),\n (('use', 'of'), 0.0001057294060262942),\n (('government', \"'s\"), 0.0001057294060262942),\n (('because', 'they'), 0.0001057294060262942),\n (('of', 'those'), 0.0001057294060262942),\n ((\"'s\", 'stock'), 0.0001057294060262942),\n (('a', 'day'), 0.0001057294060262942),\n (('close', 'to'), 0.00010431968061261027),\n (('stock', 'prices'), 0.00010431968061261027),\n (('back', 'to'), 0.00010431968061261027),\n (('to', 'mr.'), 0.00010431968061261027),\n (('after', 'a'), 0.00010431968061261027),\n (('effort', 'to'), 0.00010431968061261027),\n (('drop', 'in'), 0.00010431968061261027),\n (('decline', 'in'), 0.00010431968061261027),\n (('who', '<unk>'), 0.00010431968061261027),\n (('but', 'mr.'), 0.00010431968061261027),\n (('fiscal', 'N'), 0.00010431968061261027),\n (('to', 'give'), 0.00010431968061261027),\n (('as', 'part'), 0.00010431968061261027),\n (('the', 'right'), 0.00010431968061261027),\n (('them', 'to'), 0.00010290995519892636),\n (('would', '<unk>'), 0.00010290995519892636),\n ((\"'s\", 'the'), 0.00010290995519892636),\n (('that', 'will'), 0.00010290995519892636),\n (('even', 'though'), 0.00010290995519892636),\n (('and', 'then'), 0.00010290995519892636),\n (('have', \"n't\"), 0.00010290995519892636),\n (('he', 'would'), 0.00010290995519892636),\n (('was', '$'), 0.00010150022978524243),\n (('to', 'raise'), 0.00010150022978524243),\n (('to', 'go'), 0.00010150022978524243),\n (('say', '<stop>'), 0.00010150022978524243),\n (('but', '<unk>'), 0.00010150022978524243),\n (('for', 'instance'), 0.00010150022978524243),\n (('yen', '<stop>'), 0.00010150022978524243),\n (('that', 'have'), 0.00010150022978524243),\n (('world', \"'s\"), 0.00010150022978524243),\n (('<unk>', 'over'), 0.00010150022978524243),\n (('is', 'also'), 0.00010150022978524243),\n (('most', '<unk>'), 0.00010150022978524243),\n (('to', 'meet'), 0.00010150022978524243),\n (('N', 'down'), 0.00010150022978524243),\n (('of', 'mr.'), 0.00010150022978524243),\n (('since', 'N'), 0.0001000905043715585),\n (('june', 'N'), 0.0001000905043715585),\n (('demand', 'for'), 0.0001000905043715585),\n (('that', 'could'), 0.0001000905043715585),\n (('executive', 'vice'), 0.0001000905043715585),\n (('yesterday', \"'s\"), 0.0001000905043715585),\n (('<unk>', 'business'), 0.0001000905043715585),\n (('co.', 'and'), 0.0001000905043715585),\n (('to', 'provide'), 9.868077895787459e-05),\n (('operations', '<stop>'), 9.868077895787459e-05),\n (('analysts', 'say'), 9.868077895787459e-05),\n (('companies', '<stop>'), 9.868077895787459e-05),\n (('million', 'and'), 9.868077895787459e-05),\n (('junk', 'bonds'), 9.868077895787459e-05),\n (('the', 'move'), 9.868077895787459e-05),\n (('will', '<unk>'), 9.868077895787459e-05),\n (('said', 'a'), 9.727105354419066e-05),\n (('only', 'a'), 9.727105354419066e-05),\n (('the', 'san'), 9.727105354419066e-05),\n (('to', 'comment'), 9.727105354419066e-05),\n (('the', 'proposed'), 9.727105354419066e-05),\n (('trading', 'on'), 9.727105354419066e-05),\n (('the', 'cost'), 9.727105354419066e-05),\n (('ability', 'to'), 9.727105354419066e-05),\n (('he', \"'s\"), 9.727105354419066e-05),\n (('instead', 'of'), 9.586132813050674e-05),\n (('led', 'by'), 9.586132813050674e-05),\n (('for', 'all'), 9.586132813050674e-05),\n (('industry', '<stop>'), 9.586132813050674e-05),\n (('in', 'other'), 9.586132813050674e-05),\n (('terms', 'of'), 9.586132813050674e-05),\n (('a', 'small'), 9.586132813050674e-05),\n (('annual', 'sales'), 9.586132813050674e-05),\n (('earned', '$'), 9.586132813050674e-05),\n (('is', 'likely'), 9.586132813050674e-05),\n (('time', 'to'), 9.586132813050674e-05),\n (('to', 'increase'), 9.445160271682282e-05),\n (('the', 'public'), 9.445160271682282e-05),\n (('prices', '<stop>'), 9.445160271682282e-05),\n (('<unk>', 'than'), 9.445160271682282e-05),\n (('the', 'rest'), 9.445160271682282e-05),\n (('for', 'their'), 9.445160271682282e-05),\n (('soviet', 'union'), 9.445160271682282e-05),\n (('the', 'administration'), 9.445160271682282e-05),\n (('of', 'which'), 9.445160271682282e-05),\n (('year', 'the'), 9.445160271682282e-05),\n (('but', 'that'), 9.445160271682282e-05),\n (('at', 'its'), 9.445160271682282e-05),\n (('half', 'of'), 9.445160271682282e-05),\n (('are', 'expected'), 9.445160271682282e-05),\n (('for', 'each'), 9.445160271682282e-05),\n (('be', 'used'), 9.30418773031389e-05),\n (('a', 'federal'), 9.30418773031389e-05),\n (('the', 'problem'), 9.30418773031389e-05),\n (('reported', 'a'), 9.30418773031389e-05),\n (('is', 'still'), 9.30418773031389e-05),\n (('a', 'group'), 9.30418773031389e-05),\n (('company', 'is'), 9.30418773031389e-05),\n (('fiscal', 'year'), 9.30418773031389e-05),\n (('<unk>', 'chairman'), 9.30418773031389e-05),\n (('up', 'a'), 9.30418773031389e-05),\n (('the', 'financial'), 9.30418773031389e-05),\n (('to', 'use'), 9.30418773031389e-05),\n (('N', 'was'), 9.30418773031389e-05),\n (('up', 'with'), 9.30418773031389e-05),\n (('who', 'is'), 9.30418773031389e-05),\n (('make', 'a'), 9.30418773031389e-05),\n (('of', 'that'), 9.30418773031389e-05),\n (('but', 'in'), 9.30418773031389e-05),\n (('about', 'a'), 9.30418773031389e-05),\n (('added', 'that'), 9.30418773031389e-05),\n (('average', 'of'), 9.30418773031389e-05),\n (('be', 'sold'), 9.30418773031389e-05),\n (('a', 'former'), 9.163215188945497e-05),\n (('capital', 'markets'), 9.163215188945497e-05),\n (('bid', 'for'), 9.163215188945497e-05),\n (('N', 'after'), 9.163215188945497e-05),\n ((\"'s\", 'new'), 9.163215188945497e-05),\n (('not', 'be'), 9.163215188945497e-05),\n (('and', 'exchange'), 9.163215188945497e-05),\n (('the', 'biggest'), 9.163215188945497e-05),\n (('operating', 'profit'), 9.163215188945497e-05),\n (('been', 'a'), 9.163215188945497e-05),\n (('bonds', '<stop>'), 9.022242647577104e-05),\n (('and', 'has'), 9.022242647577104e-05),\n ((\"'s\", '$'), 9.022242647577104e-05),\n (('u.s.', '<stop>'), 9.022242647577104e-05),\n (('a', 'special'), 9.022242647577104e-05),\n (('control', 'of'), 9.022242647577104e-05),\n (('fourth', 'quarter'), 9.022242647577104e-05),\n (('will', 'continue'), 9.022242647577104e-05),\n (('right', 'to'), 9.022242647577104e-05),\n (('supreme', 'court'), 9.022242647577104e-05),\n (('to', 'reduce'), 9.022242647577104e-05),\n (('it', 'said'), 9.022242647577104e-05),\n (('and', 'an'), 8.881270106208713e-05),\n (('familiar', 'with'), 8.881270106208713e-05),\n (('common', 'stock'), 8.881270106208713e-05),\n (('third-quarter', 'earnings'), 8.881270106208713e-05),\n (('like', 'a'), 8.881270106208713e-05),\n (('the', 'nine'), 8.881270106208713e-05),\n (('above', 'the'), 8.881270106208713e-05),\n (('which', 'was'), 8.881270106208713e-05),\n (('week', \"'s\"), 8.881270106208713e-05),\n (('exchange', 'commission'), 8.881270106208713e-05),\n (('bay', 'area'), 8.881270106208713e-05),\n (('despite', 'the'), 8.881270106208713e-05),\n (('board', '<stop>'), 8.881270106208713e-05),\n (('&', 'co'), 8.881270106208713e-05),\n (('need', 'to'), 8.881270106208713e-05),\n (('had', 'to'), 8.881270106208713e-05),\n (('west', 'german'), 8.881270106208713e-05),\n (('securities', '<stop>'), 8.881270106208713e-05),\n (('the', 'offer'), 8.881270106208713e-05),\n (('wants', 'to'), 8.881270106208713e-05),\n (('the', 'tax'), 8.74029756484032e-05),\n (('a', 'large'), 8.74029756484032e-05),\n (('from', 'its'), 8.74029756484032e-05),\n (('year', 'and'), 8.74029756484032e-05),\n (('the', 'department'), 8.74029756484032e-05),\n (('in', 'fact'), 8.74029756484032e-05),\n (('co.', \"'s\"), 8.74029756484032e-05),\n (('that', 'there'), 8.74029756484032e-05),\n (('in', 'late'), 8.74029756484032e-05),\n (('analysts', 'said'), 8.74029756484032e-05),\n (('sales', '<stop>'), 8.74029756484032e-05),\n (('rise', 'in'), 8.74029756484032e-05),\n (('<unk>', 'through'), 8.74029756484032e-05),\n (('investors', '<stop>'), 8.74029756484032e-05),\n (('related', 'to'), 8.74029756484032e-05),\n (('say', 'that'), 8.74029756484032e-05),\n (('is', 'being'), 8.599325023471929e-05),\n (('the', 'value'), 8.599325023471929e-05),\n (('between', 'N'), 8.599325023471929e-05),\n (('the', 'irs'), 8.599325023471929e-05),\n (('in', 'that'), 8.599325023471929e-05),\n (('stock', '<stop>'), 8.599325023471929e-05),\n (('the', 'judge'), 8.599325023471929e-05),\n (('known', 'as'), 8.599325023471929e-05),\n (('says', 'that'), 8.599325023471929e-05),\n (('that', 'if'), 8.458352482103536e-05),\n (('or', 'the'), 8.458352482103536e-05),\n (('york', '<stop>'), 8.458352482103536e-05),\n (('on', 'their'), 8.458352482103536e-05),\n (('take', 'a'), 8.458352482103536e-05),\n (('<unk>', '$'), 8.458352482103536e-05),\n (('to', 'continue'), 8.458352482103536e-05),\n (('is', 'one'), 8.458352482103536e-05),\n (('country', \"'s\"), 8.458352482103536e-05),\n (('members', 'of'), 8.458352482103536e-05),\n (('company', 'has'), 8.458352482103536e-05),\n (('when', 'they'), 8.458352482103536e-05),\n (('that', 'in'), 8.458352482103536e-05),\n (('acquisition', 'of'), 8.458352482103536e-05),\n (('her', '<unk>'), 8.458352482103536e-05),\n (('october', 'N'), 8.458352482103536e-05),\n (('<unk>', 'would'), 8.458352482103536e-05),\n (('products', '<stop>'), 8.458352482103536e-05),\n (('valued', 'at'), 8.458352482103536e-05),\n (('who', 'has'), 8.458352482103536e-05),\n (('the', 'earthquake'), 8.458352482103536e-05),\n (('no', 'longer'), 8.317379940735143e-05),\n (('N', 'point'), 8.317379940735143e-05),\n (('the', 'law'), 8.317379940735143e-05),\n (('is', 'no'), 8.317379940735143e-05),\n (('attempt', 'to'), 8.317379940735143e-05),\n (('trading', 'yesterday'), 8.317379940735143e-05),\n (('had', '<unk>'), 8.317379940735143e-05),\n (('subject', 'to'), 8.317379940735143e-05),\n (('will', 'take'), 8.317379940735143e-05),\n (('spokesman', 'for'), 8.317379940735143e-05),\n (('addition', 'to'), 8.317379940735143e-05),\n (('both', 'the'), 8.317379940735143e-05),\n (('they', 'do'), 8.317379940735143e-05),\n (('including', 'the'), 8.317379940735143e-05),\n (('called', 'the'), 8.317379940735143e-05),\n (('some', 'analysts'), 8.317379940735143e-05),\n (('general', 'motors'), 8.317379940735143e-05),\n (('jumped', 'N'), 8.317379940735143e-05),\n (('was', 'in'), 8.317379940735143e-05),\n ((\"n't\", 'want'), 8.317379940735143e-05),\n (('bonds', 'due'), 8.317379940735143e-05),\n (('the', 'companies'), 8.317379940735143e-05),\n (('must', 'be'), 8.317379940735143e-05),\n (('who', 'are'), 8.317379940735143e-05),\n ((\"n't\", 'been'), 8.317379940735143e-05),\n (('a', 'loss'), 8.317379940735143e-05),\n (('in', 'october'), 8.317379940735143e-05),\n (('to', 'build'), 8.317379940735143e-05),\n (('traders', 'said'), 8.317379940735143e-05),\n (('efforts', 'to'), 8.176407399366751e-05),\n (('japan', '<stop>'), 8.176407399366751e-05),\n (('and', 'they'), 8.176407399366751e-05),\n (('mr.', 'dinkins'), 8.176407399366751e-05),\n (('companies', 'are'), 8.176407399366751e-05),\n (('or', 'more'), 8.176407399366751e-05),\n (('in', 'one'), 8.176407399366751e-05),\n (('to', 'say'), 8.176407399366751e-05),\n (('the', 'week'), 8.176407399366751e-05),\n (('a', 'little'), 8.176407399366751e-05),\n (('along', 'with'), 8.176407399366751e-05),\n (('of', 'some'), 8.176407399366751e-05),\n (('same', 'time'), 8.176407399366751e-05),\n (('today', '<stop>'), 8.176407399366751e-05),\n (('sales', 'rose'), 8.176407399366751e-05),\n (('million', 'on'), 8.176407399366751e-05),\n (('says', 'it'), 8.176407399366751e-05),\n (('the', 'bay'), 8.176407399366751e-05),\n (('had', \"n't\"), 8.176407399366751e-05),\n (('of', 'u.s.'), 8.176407399366751e-05),\n (('in', 'early'), 8.176407399366751e-05),\n (('months', 'of'), 8.176407399366751e-05),\n (('of', 'our'), 8.176407399366751e-05),\n (('offering', 'of'), 8.176407399366751e-05),\n (('west', 'germany'), 8.035434857998359e-05),\n (('among', 'other'), 8.035434857998359e-05),\n (('robert', '<unk>'), 8.035434857998359e-05),\n (('years', 'of'), 8.035434857998359e-05),\n (('they', 'can'), 8.035434857998359e-05),\n (('second', 'quarter'), 8.035434857998359e-05),\n (('even', 'if'), 8.035434857998359e-05),\n (('which', 'the'), 8.035434857998359e-05),\n (('to', 'put'), 8.035434857998359e-05),\n (('recent', 'years'), 8.035434857998359e-05),\n (('jones', 'industrial'), 8.035434857998359e-05),\n (('in', 'london'), 8.035434857998359e-05),\n (('hurricane', 'hugo'), 8.035434857998359e-05),\n (('in', 'composite'), 8.035434857998359e-05),\n (('corp.', 'a'), 8.035434857998359e-05),\n (('the', 'program'), 8.035434857998359e-05),\n (('which', '<unk>'), 8.035434857998359e-05),\n (('not', 'a'), 8.035434857998359e-05),\n (('and', 'more'), 8.035434857998359e-05),\n (('morgan', 'stanley'), 8.035434857998359e-05),\n (('that', 'we'), 8.035434857998359e-05),\n (('off', 'N'), 8.035434857998359e-05),\n (('willing', 'to'), 8.035434857998359e-05),\n (('revenue', 'of'), 8.035434857998359e-05),\n (('the', 'quake'), 8.035434857998359e-05),\n (('at', 'about'), 8.035434857998359e-05),\n (('to', 'cut'), 8.035434857998359e-05),\n (('make', 'the'), 8.035434857998359e-05),\n (('it', 'could'), 8.035434857998359e-05),\n (('a', 'more'), 8.035434857998359e-05),\n ((\"'s\", 'and'), 8.035434857998359e-05),\n (('<unk>', 'co.'), 8.035434857998359e-05),\n (('the', 'fourth'), 8.035434857998359e-05),\n (('co.', 'said'), 7.894462316629967e-05),\n (('but', 'a'), 7.894462316629967e-05),\n (('we', 'do'), 7.894462316629967e-05),\n (('system', '<stop>'), 7.894462316629967e-05),\n (('lack', 'of'), 7.894462316629967e-05),\n (('due', 'to'), 7.894462316629967e-05),\n (('the', 'sec'), 7.894462316629967e-05),\n (('be', 'reached'), 7.894462316629967e-05),\n (('comment', 'on'), 7.894462316629967e-05),\n (('seems', 'to'), 7.894462316629967e-05),\n (('to', 'work'), 7.894462316629967e-05),\n (('who', 'had'), 7.894462316629967e-05),\n (('people', 'who'), 7.894462316629967e-05),\n ((\"'s\", 'not'), 7.894462316629967e-05),\n (('debt', '<stop>'), 7.894462316629967e-05),\n (('firm', '<stop>'), 7.894462316629967e-05),\n (('also', 'has'), 7.894462316629967e-05),\n (('first', 'time'), 7.894462316629967e-05),\n (('also', '<unk>'), 7.894462316629967e-05),\n (('a', 'very'), 7.894462316629967e-05),\n (('in', 'some'), 7.894462316629967e-05),\n (('he', 'will'), 7.894462316629967e-05),\n (('of', 'people'), 7.894462316629967e-05),\n (('shearson', 'lehman'), 7.894462316629967e-05),\n (('whether', 'the'), 7.894462316629967e-05),\n (('out', 'the'), 7.894462316629967e-05),\n (('trading', 'in'), 7.753489775261574e-05),\n (('where', 'the'), 7.753489775261574e-05),\n (('no', 'one'), 7.753489775261574e-05),\n (('scheduled', 'to'), 7.753489775261574e-05),\n (('N', 'an'), 7.753489775261574e-05),\n (('the', 'acquisition'), 7.753489775261574e-05),\n (('now', '<stop>'), 7.753489775261574e-05),\n (('j.', '<unk>'), 7.753489775261574e-05),\n (('three', 'months'), 7.753489775261574e-05),\n (('N', 'with'), 7.753489775261574e-05),\n (('david', '<unk>'), 7.753489775261574e-05),\n (('the', 'business'), 7.753489775261574e-05),\n (('and', 'will'), 7.753489775261574e-05),\n (('across', 'the'), 7.753489775261574e-05),\n (('his', 'own'), 7.753489775261574e-05),\n (('stocks', '<stop>'), 7.753489775261574e-05),\n (('lehman', 'hutton'), 7.753489775261574e-05),\n (('an', 'average'), 7.753489775261574e-05),\n (('N', 'is'), 7.612517233893183e-05),\n (('market', 'and'), 7.612517233893183e-05),\n (('senior', 'vice'), 7.612517233893183e-05),\n (('in', 'washington'), 7.612517233893183e-05),\n (('to', 'come'), 7.612517233893183e-05),\n (('series', 'of'), 7.612517233893183e-05),\n ...]"
     },
     "execution_count": 119,
     "metadata": {},
     "output_type": "execute_result"
    }
   ],
   "source": [
    "sorted(first_order_condition_prob.items(), key=lambda x: x[1], reverse=True)"
   ],
   "metadata": {
    "collapsed": false,
    "ExecuteTime": {
     "end_time": "2024-03-01T15:46:10.093297200Z",
     "start_time": "2024-03-01T15:46:10.023480600Z"
    }
   },
   "id": "1213fb051123e60f",
   "execution_count": 119
  },
  {
   "cell_type": "markdown",
   "id": "c89cb406",
   "metadata": {},
   "source": [
    "#### Now let's analyze the Bi-gram language model for different sequences. We first create a function that can output the probability for a given string."
   ]
  },
  {
   "cell_type": "code",
   "execution_count": 127,
   "id": "e459cdc4",
   "metadata": {
    "ExecuteTime": {
     "end_time": "2024-03-01T16:06:14.668217300Z",
     "start_time": "2024-03-01T16:06:14.622338200Z"
    }
   },
   "outputs": [],
   "source": [
    "def bigram_lm_seq_probability(input_sentence: str,\n",
    "                              word_prob_dict: dict,\n",
    "                              first_order_condition_prob: dict):\n",
    "    '''\n",
    "    args:\n",
    "        input_sentence: The input sequence string. Here we assume\n",
    "        word_prob_dict: a dictionary containing the word probabilities\n",
    "        first_order_condition_prob: a dictionary containing the first order conditional probabilities\n",
    "                                    as discussed in the previous function.\n",
    "    output:\n",
    "        probability: The probability of the input_sentence according to the Bi-gram language model\n",
    "    '''\n",
    "    # YOUR CODE HERE\n",
    "    try:\n",
    "        probability = word_prob_dict[input_sentence.split()[0]]\n",
    "    except:\n",
    "        # probability = word_prob_dict['<unk>']\n",
    "        probability = 0\n",
    "    for i in range(len(input_sentence.split())-1):\n",
    "        try:\n",
    "            probability *= first_order_condition_prob[(input_sentence.split()[i], input_sentence.split()[i+1])]\n",
    "        except:\n",
    "            probability *= 0\n",
    "\n",
    "    return probability"
   ]
  },
  {
   "cell_type": "markdown",
   "id": "a87509ef",
   "metadata": {},
   "source": [
    "Let's investigate a major issue with higher order language models.\n",
    "#### Compute the probabilities for all the sequences in `ptb_test` dataset, and compute the minimum value among these probablities. What would be the perplexity for the dataset given these values?\n",
    "Discussion: How can we avoid this **overfitting** to train dataset?"
   ]
  },
  {
   "cell_type": "code",
   "execution_count": 128,
   "id": "3d9a0460",
   "metadata": {
    "ExecuteTime": {
     "end_time": "2024-03-01T16:06:19.189346100Z",
     "start_time": "2024-03-01T16:06:18.125221100Z"
    }
   },
   "outputs": [
    {
     "name": "stdout",
     "output_type": "stream",
     "text": [
      "90.63465652483956% of samples in the test set have zero probability!\n"
     ]
    }
   ],
   "source": [
    "bigram_test_probabilities = []\n",
    "\n",
    "# YOUR CODE HERE\n",
    "for sentence in ptb_test['sentence']:\n",
    "    bigram_test_probabilities.append(bigram_lm_seq_probability(sentence, word_prob_dict, first_order_condition_prob))\n",
    "\n",
    "print(f\"{bigram_test_probabilities.count(0)/len(ptb_test)*100}% of samples in the test set have zero probability!\")"
   ]
  },
  {
   "cell_type": "markdown",
   "id": "9ced914f",
   "metadata": {},
   "source": [
    "### Smoothing\n",
    "As we saw above, due to having new pair of consecutive words in the test dataset, we might have zero probabilities for some sequences. Therefore, as discussed in the lectures, in order to have a meaningful perplexity for N-gram language models, we need to smooth the probabilities to have non-zero values for non-seen sequences. In this exercise, we use Laplace smoothing as defined below:\n",
    "$$P(x_i|x_{i-1}) = \\frac{count(x_{i-1},~x_i) + \\alpha}{count(x_{i-1}) + \\alpha ~|V|}$$\n",
    ", where $\\alpha$ is the smoothing parameter, and $|V|$ is the (train dataset) vocabulary size.\n",
    "\n",
    "#### Let's recompute the conditional probabilities using Laplace smoothing."
   ]
  },
  {
   "cell_type": "code",
   "execution_count": null,
   "id": "5d808944",
   "metadata": {},
   "outputs": [],
   "source": [
    "def get_smoothed_first_order_conditional_probabilities(train_dataset: datasets.arrow_dataset.Dataset,\n",
    "                                                       smoothing_alpha: float):\n",
    "    '''\n",
    "    In this function the conditional probabilities have to be computed based on train_dataset. The output\n",
    "    of the function is a dictionary having keys like (x_{i-1}, x_i) as a tuple and the\n",
    "    value being p(x_i|x_{i-1}).\n",
    "    args:\n",
    "        train_dataset: a Dataset object that can be iterated to get all the sentences\n",
    "        smoothing_alpha: The alpha parameter used in the Laplace smoothing.\n",
    "    output:\n",
    "        word_prob_dict: a dictionary containing the word probabilities \n",
    "        first_order_condition_prob: a dictionary containing the smoothed first order\n",
    "                                    conditional probabilities as discussed above.\n",
    "    '''\n",
    "    first_order_condition_prob = defaultdict(float)  # Note that we shouldn't get zeros for unseen events.\n",
    "    # let's first get the word probabilities (later used for computation of conditional probabilities)\n",
    "    word_prob_dict = get_word_probability_dict(train_dataset)\n",
    "    \n",
    "    \n",
    "    # YOUR CODE here\n",
    "    \n",
    "    return word_prob_dict, first_order_condition_prob"
   ]
  },
  {
   "cell_type": "code",
   "execution_count": null,
   "id": "3008240c",
   "metadata": {},
   "outputs": [],
   "source": [
    "def smoothed_bigram_lm_seq_probability(input_sentence: str,\n",
    "                                       word_prob_dict: dict,\n",
    "                                       word_frequency_dict: dict,\n",
    "                                       first_order_condition_prob: dict,\n",
    "                                       smoothing_alpha: float):\n",
    "    '''\n",
    "    args:\n",
    "        input_sentence: The input sequence string. Here we assume\n",
    "        word_prob_dict: a dictionary containing the word probabilities\n",
    "        word_frequency_dict: a dictionary containing the frequency for every word in vocabulary\n",
    "        first_order_condition_prob: a dictionary containing the first order conditional probabilities\n",
    "                                    as discussed in the previous function.\n",
    "        smoothing_alpha: The alpha parameter used in the Laplace smoothing.\n",
    "    output:\n",
    "        probability: The probability of the input_sentence according to the Bi-gram language model\n",
    "    '''\n",
    "    # YOUR CODE HERE\n",
    "    \n",
    "    return probability"
   ]
  },
  {
   "cell_type": "markdown",
   "id": "4cd77e6c",
   "metadata": {},
   "source": [
    "#### Assuming $\\alpha=0.01$ for the smoothing, use the previous function and `bigram_lm_seq_probability` to compute the sequence probabilities for all the sentences in the `ptb_test` dataset."
   ]
  },
  {
   "cell_type": "code",
   "execution_count": null,
   "id": "e2c76c94",
   "metadata": {},
   "outputs": [],
   "source": [
    "smoothed_bigram_test_probabilities = []\n",
    "\n",
    "# YOUR CODE HERE\n",
    "\n",
    "print(f\"{smoothed_bigram_test_probabilities.count(0)/len(ptb_test)*100}% of samples in the test set have zero probability!\")"
   ]
  },
  {
   "cell_type": "markdown",
   "id": "8f8b38b8",
   "metadata": {},
   "source": [
    "If the perplexity for a given sequence is computed as below, compute the Bigram language model perplexity over `ptb_test` dataset over all the sentences ($\\alpha=0.01)$:\n",
    "$$Perplexity(x_1x_2...x_n) = p(x_1x_2...x_n)^{-1/n}$$\n",
    ", where $p(x_1x_2...x_n)$ is the probability assigned to $x_1x_2...x_n$ sequence by the language model."
   ]
  },
  {
   "cell_type": "code",
   "execution_count": null,
   "id": "7e3665f1",
   "metadata": {},
   "outputs": [],
   "source": [
    "bigram_lm_perplexity = -1\n",
    "# YOUR CODE HERE\n",
    "\n",
    "print(f\"Bigram language model perplexity is {bigram_lm_perplexity}\")"
   ]
  },
  {
   "cell_type": "markdown",
   "id": "edd753ef",
   "metadata": {},
   "source": [
    "Repeat the same steps but for `cleaned_train_dataset` and `cleaned_test_dataset` datasets where rare tokens (with frequency less than 10) are replaced with `<unk>` token. Do we have a better or a worse perplexity compared to the previous computed perplexity?"
   ]
  },
  {
   "cell_type": "code",
   "execution_count": null,
   "id": "92b98f8b",
   "metadata": {},
   "outputs": [],
   "source": [
    "# YOUR CODE HERE\n",
    "\n",
    "print(f\"(cleaned) Bigram language model perplexity is {cleaned_bigram_lm_perplexity}\")"
   ]
  },
  {
   "cell_type": "markdown",
   "id": "e2ea844a",
   "metadata": {},
   "source": [
    "## 1.3 Tri-gram Language Model <a name='trigram_lm'></a>\n",
    "In the Tri-gram language model, we pick/generate next token conditioned only on the two previous tokens. Therefore, for an arbitrary sequence $x_1x_2~...x_n$, its respective probability becomes:\n",
    "$$p(x_1x_2~...x_n) = p(x_1) p(x_2|x_1) ~\\Pi_{i=3} ^n p(x_i|x_{i-2}x_{i-1})$$\n",
    "Let's use the same dataset (`Penn Treebank`) to evaluate this model's perplexity. (We use the dataset that already has the `<stop>` token at the end of each sentence).\n",
    "\n",
    "\n",
    "We estimate $p(x_i|x_{i-1}x_{i-2})$ using the Laplace smoothing with $\\alpha=3 \\cdot 10^{-3}$. First let's write a function that computes these conditional probabilities for the Tri-gram language model."
   ]
  },
  {
   "cell_type": "code",
   "execution_count": null,
   "id": "abdf0b35",
   "metadata": {},
   "outputs": [],
   "source": [
    "def get_smoothed_second_order_conditional_probabilities(train_dataset: datasets.arrow_dataset.Dataset,\n",
    "                                                        smoothing_alpha: float):\n",
    "    '''\n",
    "    In this function the conditional probabilities have to be computed based on train_dataset. The output\n",
    "    of the function is a dictionary having keys like (x_{i-2}, x_{i-1}, x_i) as a tuple and the\n",
    "    value being p(x_i | x_{i-2} x_{i-1}).\n",
    "    args:\n",
    "        train_dataset: a Dataset object that can be iterated to get all the sentences\n",
    "        smoothing_alpha: The alpha parameter used in the Laplace smoothing.\n",
    "    output:\n",
    "        word_prob_dict: a dictionary containing the word probabilities \n",
    "        first_order_condition_prob: a dictionary containing the smoothed first order\n",
    "                                    conditional probabilities.\n",
    "        second_order_condition_prob: a dictionary containing the smoothed second order\n",
    "                                     conditional probabilities.\n",
    "    '''\n",
    "    smoothed_second_order_condition_prob = defaultdict(float)  # Note that we shouldn't get zeros for unseen probabilies.\n",
    "    \n",
    "    # let's first get the 0th and 1st order conditional probabilities\n",
    "    (word_prob_dict, first_order_condition_prob) = get_smoothed_first_order_conditional_probabilities(\n",
    "        train_dataset, smoothing_alpha)\n",
    "    \n",
    "    # YOUR CODE HERE\n",
    "    \n",
    "    return word_prob_dict, first_order_condition_prob, second_order_condition_prob\n"
   ]
  },
  {
   "cell_type": "markdown",
   "id": "936a664f",
   "metadata": {},
   "source": [
    "#### Now let's analyze the Tri-gram language model for different sequences. We first create a function that can output the probability for a given string."
   ]
  },
  {
   "cell_type": "code",
   "execution_count": null,
   "id": "3f6a692c",
   "metadata": {},
   "outputs": [],
   "source": [
    "def smoothed_trigram_lm_seq_probability(input_sentence: str,\n",
    "                                        word_prob_dict: dict,\n",
    "                                        word_frequency_dict: dict,\n",
    "                                        bigram_frequency_dict: dict,\n",
    "                                        first_order_condition_prob: dict,\n",
    "                                        second_order_condition_prob: dict,\n",
    "                                        smoothing_alpha: float):\n",
    "    '''\n",
    "    args:\n",
    "        input_sentence: The input sequence string. Here we assume\n",
    "        word_prob_dict: a dictionary containing the word probabilities\n",
    "        word_frequency_dict: a dictionary containing the frequency for every word in vocabulary\n",
    "        bigram_frequency_dict: a dictionary containing the frequency for every bigram in vocabulary\n",
    "        first_order_condition_prob: a dictionary containing the first order conditional probabilities\n",
    "                                    as discussed earlier.\n",
    "        second_order_condition_prob: a dictionary containing the second order conditional probabilities\n",
    "                                     as discussed in the previous function.\n",
    "    output:\n",
    "        probability: The probability of the input_sentence according to the Bi-gram language model\n",
    "    '''\n",
    "\n",
    "    # YOUR CODE HERE    \n",
    "\n",
    "    return probability"
   ]
  },
  {
   "cell_type": "markdown",
   "id": "16865742",
   "metadata": {},
   "source": [
    "#### Now let's compute the probability for sequences in the test dataset, assuming $\\alpha=3\\cdot10^{-3}$ has been used in the Laplace smoothing."
   ]
  },
  {
   "cell_type": "code",
   "execution_count": null,
   "id": "36feefd8",
   "metadata": {},
   "outputs": [],
   "source": [
    "smoothed_trigram_test_probabilities = []\n",
    "\n",
    "# YOUR CODE HERE\n",
    "\n",
    "print(f\"{smoothed_trigram_test_probabilities.count(0)/len(ptb_test)*100}% of samples in the test set have zero probability!\")"
   ]
  },
  {
   "cell_type": "markdown",
   "id": "26ddd040",
   "metadata": {},
   "source": [
    "Now we compute the perplexity on the `ptb_test` dataset for the tri-gram language model."
   ]
  },
  {
   "cell_type": "code",
   "execution_count": null,
   "id": "25ed3d70",
   "metadata": {},
   "outputs": [],
   "source": [
    "Trigram_lm_perplexity = -1\n",
    "# YOUR CODE HERE\n",
    "\n",
    "print(f\"Trigram language model perplexity is {Trigram_lm_perplexity}\")"
   ]
  },
  {
   "cell_type": "markdown",
   "id": "e34c59c8",
   "metadata": {},
   "source": [
    "Repeat the same steps but for `cleaned_train_dataset` and `cleaned_test_dataset` datasets where rare tokens (with frequency less than 10) are replaced with `<unk>` token. Do we have a better or a worse perplexity compared to the previous computed perplexity?"
   ]
  },
  {
   "cell_type": "code",
   "execution_count": null,
   "id": "da22c0b709972243",
   "metadata": {
    "collapsed": false
   },
   "outputs": [],
   "source": [
    "# <unk>, $"
   ]
  },
  {
   "cell_type": "markdown",
   "id": "2d8e69cc",
   "metadata": {},
   "source": [
    "#### Discussion\n",
    " - How are the three discussed models performance compare to each other?\n",
    " - What is the cost of using N-gram language models for even larger N values?\n",
    " - What is the effect of vocabulary size on models' perplexities? Can we compare models with different vocabulary sizes?\n",
    " - What is the perplexity of a language model (vocabulary size of |V|) that given any context (i.e., $x_1 x_2 ... x_{n-1}$) assigns uniform probabilities (for all the tokens in the vocabulary) for the next token? "
   ]
  },
  {
   "cell_type": "markdown",
   "id": "641578b1",
   "metadata": {},
   "source": [
    "## 2. Task B: Neural Language Models <a name='neural_lm'></a>\n",
    "\n",
    "In this exercise, we will better understand the functioning of some simple neural language models. We first start with a fixed-window neural language model. In the following subsection, we will investigate an RNN-based language model."
   ]
  },
  {
   "cell_type": "markdown",
   "id": "88cee765",
   "metadata": {},
   "source": [
    "### 2.1 Fixed-Window Neural Language Model <a name='fixed_window_lm'></a>\n",
    "This language model take as input a constant number of tokens, and then outputs a probability distribution for the next token. In this section, we assume the underlying model is a Multi-layer Perceptron (MLP) with a single hidden layer. This model doesn't have the sparsity issue of N-gram language models, but is always limited to a fixed window of tokens.\n",
    "\n",
    "In this section, we don't include the training of the model but rather we use a pretrained model on the same training dataset. We evaluate the language model over the `ptb_test` dataset, to show the power of neural language models, when compared to N-gram language models.\n",
    "\n",
    "More importantly, we use PyTorch modules in this section, so that you get more familiar with its capabilities. Throughout this exercise, we use a `window_size=3` for this model.\n",
    "\n"
   ]
  },
  {
   "cell_type": "markdown",
   "id": "6808da1e",
   "metadata": {},
   "source": [
    "Let's first create a dataset of all consecutive tokens of length `window_size` from the `ptb_train` dataset. you can read more about PyTorch datasets and how to create a custom dataset  [here](https://pytorch.org/tutorials/beginner/basics/data_tutorial.html#creating-a-custom-dataset-for-your-files)."
   ]
  },
  {
   "cell_type": "code",
   "execution_count": null,
   "id": "70f5c3bf",
   "metadata": {},
   "outputs": [],
   "source": [
    "from torch.utils.data import Dataset, DataLoader\n",
    "\n",
    "window_size = 3\n",
    "vocabulary_size = 10000\n",
    "word_emb_dim = 100\n",
    "hidden_dim = 100\n",
    "\n",
    "\n",
    "class FixedWindowDataset(Dataset):\n",
    "    # read more about custom datasets at https://pytorch.org/tutorials/beginner/basics/data_tutorial.html\n",
    "    def __init__(self,\n",
    "                 train_dataset: datasets.arrow_dataset.Dataset,\n",
    "                 test_dataset: datasets.arrow_dataset.Dataset,\n",
    "                 window_size: int,\n",
    "                 vocabulary_size: int\n",
    "                ):\n",
    "        self.prepared_train_dataset = self.prepare_fixed_window_lm_dataset(train_dataset, window_size + 1)\n",
    "        self.prepared_test_dataset = self.prepare_fixed_window_lm_dataset(test_dataset, window_size + 1)\n",
    "        \n",
    "        dataset_vocab = self.get_dataset_vocabulary(train_dataset)\n",
    "        # defining a dictionary that simply maps tokens to their respective index in the embedding matrix\n",
    "        self.word_to_index = {word: idx for idx,word in enumerate(dataset_vocab)}\n",
    "        self.index_to_word = {idx: word for idx,word in enumerate(dataset_vocab)}\n",
    "        \n",
    "        assert vocabulary_size >= len(dataset_vocab) , f\"The dataset vocab size is {len(dataset_vocab)}!\"\n",
    "\n",
    "    def __len__(self):\n",
    "        return len(self.prepared_train_dataset)\n",
    "    \n",
    "    def get_encoded_test_samples(self):\n",
    "        all_token_lists = [sample.split() for sample in self.prepared_test_dataset]\n",
    "        all_token_ids = [[self.word_to_index.get(word, self.word_to_index[\"<unk>\"])\n",
    "                          for word in token_list[:-1]]\n",
    "                         for token_list in all_token_lists\n",
    "                        ]\n",
    "        all_next_token_ids = [self.word_to_index.get(token_list[-1], self.word_to_index[\"<unk>\"]) for \n",
    "                              token_list in all_token_lists]\n",
    "        return torch.tensor(all_token_ids), torch.tensor(all_next_token_ids)\n",
    "        \n",
    "    def __getitem__(self, idx):\n",
    "        # here we need to transform the data to the format we expect at the model input\n",
    "        token_list = self.prepared_train_dataset[idx].split()\n",
    "        # having a fallback to <unk> token if an unseen word is encoded.\n",
    "        token_ids = [self.word_to_index.get(word, self.word_to_index[\"<unk>\"]) for word in token_list[:-1]]\n",
    "        next_token_id = self.word_to_index.get(token_list[-1], self.word_to_index[\"<unk>\"])\n",
    "        return torch.tensor(token_ids), torch.tensor(next_token_id)\n",
    "    \n",
    "    def decode_idx_to_word(self, token_id):\n",
    "        return [self.index_to_word[id_.item()] for id_ in token_id]\n",
    "    \n",
    "    def get_dataset_vocabulary(self, train_dataset: datasets.arrow_dataset.Dataset):\n",
    "        vocab = sorted(set(\" \".join([sample[\"sentence\"] for sample in train_dataset]).split()))\n",
    "        # we also add a <start> token to include initial tokens in the sentences in the dataset\n",
    "        vocab += [\"<start>\"]\n",
    "        return vocab\n",
    "    \n",
    "    @staticmethod\n",
    "    def prepare_fixed_window_lm_dataset(target_dataset: datasets.arrow_dataset.Dataset,\n",
    "                                        window_size: int):\n",
    "        '''\n",
    "        Please note that for the very first tokens, they will be added like \"<start> <start> Token#1\".\n",
    "        args:\n",
    "            target_dataset: the target dataset where its consecutive tokens of length 'window_size' should be extracted\n",
    "            window_size: the window size for the language model\n",
    "        output:\n",
    "            prepared_dataset: a list of strings each containing 'window_size' tokens.\n",
    "        '''\n",
    "        \n",
    "        prepared_dataset = []\n",
    "        \n",
    "        # YOUR CODE HERE\n",
    "        \n",
    "        return prepared_dataset\n",
    "        \n",
    "        "
   ]
  },
  {
   "cell_type": "code",
   "execution_count": null,
   "id": "524f4a18",
   "metadata": {},
   "outputs": [],
   "source": [
    "fixed_window_dataset = FixedWindowDataset(ptb_train, ptb_test, window_size, vocabulary_size)\n",
    "\n",
    "# let's create a simple dataloader for this dataset\n",
    "train_dataloader =  DataLoader(fixed_window_dataset, batch_size=8, shuffle=True)"
   ]
  },
  {
   "cell_type": "markdown",
   "id": "5b44e90d",
   "metadata": {},
   "source": [
    "Now, let's define the underlying PyTorch model for the language model. You can read more about PyTorch models [here](https://pytorch.org/tutorials/beginner/introyt/modelsyt_tutorial.html).\n",
    "\n",
    "**Note**: Here in the forward pass, we compute the negative log-likelihood after passing through the MLP layers. Here we use `torch.nn.LogSoftmax`, as it's numerically more stable than doing seperately `softmax` followed by taking its logarithm."
   ]
  },
  {
   "cell_type": "code",
   "execution_count": null,
   "id": "e3ea691f",
   "metadata": {},
   "outputs": [],
   "source": [
    "import torch.optim as optim\n",
    "\n",
    "class Fixed_window_language_model(torch.nn.Module):\n",
    "    def __init__(self, emb_dim, hidden_dim, window_size, vocab_size=10000):\n",
    "        super().__init__()\n",
    "\n",
    "        self.window_size = window_size\n",
    "        self.emb_dim = emb_dim\n",
    "        self.word_embeddings = torch.nn.Embedding(vocab_size, emb_dim) # word embeddings\n",
    "        self.linear1 = torch.nn.Linear(window_size * emb_dim, hidden_dim) # first linear layer\n",
    "        self.activation_func = torch.tanh # the activation function\n",
    "        self.linear2 = torch.nn.Linear(hidden_dim, vocab_size) # second linear layer\n",
    "        \n",
    "        self.log_softmax = torch.nn.LogSoftmax(dim=1)\n",
    "        self.criterion = torch.nn.NLLLoss()\n",
    "     \n",
    "    def forward(self, input_ids, labels):\n",
    "        inputs_embeds = self.word_embeddings(input_ids)\n",
    "        concat_input_embed = inputs_embeds.reshape(-1, self.emb_dim * self.window_size)\n",
    "        hidden_state = self.activation_func( self.linear1(concat_input_embed) )\n",
    "        logits = self.log_softmax( self.linear2(hidden_state) )\n",
    "        loss = self.criterion(logits, labels)\n",
    "        \n",
    "        return loss\n",
    "    "
   ]
  },
  {
   "cell_type": "markdown",
   "id": "4dae5397",
   "metadata": {},
   "source": [
    "Now let's see how easy it is to train a model with PyTorch! (we provide a trained model in the cell after train, so that you can just start using the model without going through the time-consuming training)"
   ]
  },
  {
   "cell_type": "code",
   "execution_count": null,
   "id": "93779901",
   "metadata": {},
   "outputs": [],
   "source": [
    "# defining the model\n",
    "model_fixed_window = Fixed_window_language_model(emb_dim=word_emb_dim, hidden_dim=hidden_dim,\n",
    "                                                 window_size=window_size, vocab_size=vocabulary_size)\n",
    "\n",
    "# defining the optimizer\n",
    "optimizer = optim.SGD(model_fixed_window.parameters(),\n",
    "                      lr=0.005,\n",
    "                      momentum=0.9)"
   ]
  },
  {
   "cell_type": "code",
   "execution_count": null,
   "id": "77626d29",
   "metadata": {
    "scrolled": true
   },
   "outputs": [],
   "source": [
    "for epoch in range(2):  # loop over the dataset multiple times\n",
    "\n",
    "    running_loss = 0.0\n",
    "    for i, data in enumerate(train_dataloader):\n",
    "        # get the inputs; data is a tuple of (context, target)\n",
    "        context, target = data\n",
    "\n",
    "        # zero the parameter gradients\n",
    "        optimizer.zero_grad()\n",
    "\n",
    "        # forward + backward + optimize\n",
    "        loss = model_fixed_window(context, target)\n",
    "        loss.backward()\n",
    "        optimizer.step()\n",
    "\n",
    "        # print statistics\n",
    "        running_loss += loss.item()\n",
    "        if i % 5000 == 4999. :    # print every 5000 mini-batches\n",
    "            print(f'[{epoch + 1}, {i + 1:5d}] loss: {running_loss / 5000:.3f}')\n",
    "            running_loss = 0.0\n",
    "\n",
    "print('Finished Training')\n",
    "\n",
    "# saving the trained model\n",
    "torch.save(model_fixed_window.state_dict(), \"fixed_window_model.pt\")"
   ]
  },
  {
   "cell_type": "markdown",
   "id": "0483dd01",
   "metadata": {},
   "source": [
    "We provide a trained model, so that you can start using it right away"
   ]
  },
  {
   "cell_type": "code",
   "execution_count": null,
   "id": "54ba51b1",
   "metadata": {},
   "outputs": [],
   "source": [
    "fixed_window_checkpoint_file = \"fixed_window_model.pt\"\n",
    "model_fixed_window.load_state_dict(torch.load(fixed_window_checkpoint_file))"
   ]
  },
  {
   "cell_type": "code",
   "execution_count": null,
   "id": "b806f375",
   "metadata": {},
   "outputs": [],
   "source": [
    "# context and 'target' ids (target is the next word after the context)\n",
    "test_token_ids, test_target_ids = fixed_window_dataset.get_encoded_test_samples()"
   ]
  },
  {
   "cell_type": "markdown",
   "id": "f87e283d",
   "metadata": {},
   "source": [
    "We now have the `test_token_ids`, `test_target_ids` tensors for the test dataset. The `test_token_ids` are the context ids and `test_target_ids` are the respective **next token** (a.k.a. target here) for these contexts.\n",
    "#### Using the trained model, implement a function that can output the loss for the discussed test dataset. How can we generally decide if the model is overfitted to the train dataset or not?"
   ]
  },
  {
   "cell_type": "code",
   "execution_count": null,
   "id": "e352e019",
   "metadata": {},
   "outputs": [],
   "source": [
    "def generate_test_dataset_loss(model: torch.nn.Module,\n",
    "                               test_token_ids: torch.Tensor,\n",
    "                               test_target_ids: torch.Tensor):\n",
    "    '''\n",
    "    args:\n",
    "        model: fixed-window language model\n",
    "        test_token_ids: the context ids in a single tensor.\n",
    "        test_target_ids: the target ids (next token after the context) in a single tensor.\n",
    "    output:\n",
    "        avg_test_loss: The average loss of model over test dataset.\n",
    "    '''\n",
    "    batch_size = 4\n",
    "    test_loss = []\n",
    "    \n",
    "    \n",
    "    # YOUR CODE HERE\n",
    "    \n",
    "    return avg_test_loss\n",
    "\n",
    "\n",
    "test_dataset_loss = generate_test_dataset_loss(model_fixed_window, test_token_ids, test_target_ids)\n",
    "print(f\"Test dataset loss is {test_dataset_loss}\")"
   ]
  },
  {
   "cell_type": "markdown",
   "id": "085d7476",
   "metadata": {},
   "source": [
    "#### Using the trained fixed-window model, implement a function that can output entropy for a given sequence."
   ]
  },
  {
   "cell_type": "code",
   "execution_count": null,
   "id": "db54e454",
   "metadata": {},
   "outputs": [],
   "source": [
    "def get_seqeuence_entropy_fixed_window_lm(model: torch.nn.Module,\n",
    "                                              input_sequence: str,\n",
    "                                              window_size: int,\n",
    "                                              word_to_idx: dict):\n",
    "    '''\n",
    "    Note that e.g., in order to get the first token probability, you need to pass a sequence\n",
    "    like \"<start> <start> <start>\" (prefix padding) to the neural model. In a similar fashion, we need to pass\n",
    "    \"<start> <start> TOKEN#1\" for getting the probability of the second token.\n",
    "    args:\n",
    "        model: fixed-window language model\n",
    "        input_sequence: the sequence for which we want to calculate the probability\n",
    "        window_size: the size of window for the language model\n",
    "        word_to_idx: a mapping from words to the embedding indices (to encode tokens before being\n",
    "                     passed to model). You can get this dict from 'fixed_window_dataset.word_to_index'\n",
    "    output:\n",
    "        sequence_entropy: the entropy for the input sequence using the trained model\n",
    "    '''\n",
    "    \n",
    "    # YOUR CODE HERE\n",
    "\n",
    "    return sequence_entropy"
   ]
  },
  {
   "cell_type": "markdown",
   "id": "7d055835",
   "metadata": {},
   "source": [
    "#### Compute the perplexity for the trained fixed-window language model over `ptb_test` dataset using the previous function. How does it perform compared to N-gram language models we discussed earlier?"
   ]
  },
  {
   "cell_type": "code",
   "execution_count": null,
   "id": "f4289886",
   "metadata": {},
   "outputs": [],
   "source": [
    "perplexity = -1\n",
    "\n",
    "# YOUR CODE HERE\n",
    "\n",
    "print(f\"The fixed-window model perplexity over test dataset is {perplexity}\")"
   ]
  },
  {
   "cell_type": "markdown",
   "id": "240c3d89",
   "metadata": {},
   "source": [
    "### 2.2 RNN-based Language Model <a name='rnn_lm'></a>\n",
    "To address the need for a neural architecture that can proceed with any length input (as opposed to the fixed-window model that can only process a fixed number of tokens), we implement the Recurrent Neural Network (RNN). The core idea behind is that we can apply the same weight W repeatedly.\n",
    "\n",
    "An advatange of RNN model compared to fixed-window langauage model is that we can pass a given sentence at once, instead of passing it in many windows of size `window_size`. Moreover, the language model has the ability to look behind further that a fixed number of tokens.\n",
    "\n",
    " As we already did a neural model training exercise for the previous neural model, we only provide a trained LM at this section, so that you can focus only on the analysis part.\n",
    " \n",
    "You can find the dataset structure as well as the RNN architecture in the `rnn_utils.py` file."
   ]
  },
  {
   "cell_type": "code",
   "execution_count": null,
   "id": "fc631bc1",
   "metadata": {},
   "outputs": [],
   "source": [
    "from rnn_utils import RNNDataset, RNN_language_model\n",
    "\n",
    "vocabulary_size = 10000\n",
    "word_emb_dim = 200\n",
    "hidden_dim = 200\n",
    "\n",
    "rnn_dataset = RNNDataset(ptb_train, ptb_test, vocabulary_size)\n",
    "\n",
    "# if gpu is available, we puts the model on it \n",
    "device = torch.device(\"cuda:0\" if torch.cuda.is_available() else \"cpu\")\n",
    "\n",
    "# Here we need a <pad> token for the RNN model, in order to have a batch of sequences with difference sizes \n",
    "pad_idx = rnn_dataset.pad_idx # the index for <pad> token\n",
    "rnn_model = RNN_language_model(vocab_size=vocabulary_size, emb_dim=word_emb_dim, hidden_dim=hidden_dim,\n",
    "                               pad_idx=pad_idx)\n",
    "rnn_model.to(device)"
   ]
  },
  {
   "cell_type": "markdown",
   "id": "25137a9f",
   "metadata": {},
   "source": [
    "load the model weights using the state_dict in `rnn_model.pt` file."
   ]
  },
  {
   "cell_type": "code",
   "execution_count": null,
   "id": "52adb1f9",
   "metadata": {},
   "outputs": [],
   "source": [
    "# YOUR CODE HERE"
   ]
  },
  {
   "cell_type": "markdown",
   "id": "f06eb967",
   "metadata": {},
   "source": [
    "As the training of an RNN model is time-consuming, we provide a trained language model on this dataset (`rnn_model.pt`), so that you can just analyze the model performance here.\n",
    "As mentioned above, as RNN can get sequences with varying lengths, the input sequences should be padded with a special token like `<pad>`, so that we can create a batch of sentences. The output of the defined RNN model (see the architecture detail `rnn_utils.py`) is the model's entropy over the input data.\n",
    "\n",
    "#### First get the encoded test samples of `ptb_test` dataset, and then pass these (already padded) sentences to the RNN model to get the respective entropy values. Compute the perplexity of the model and compare it with previous approaches.\n",
    "**HINT**: You can use the `get_encoded_test_samples` function of `rnn_dataset` to get encoded test samples.\n"
   ]
  },
  {
   "cell_type": "code",
   "execution_count": null,
   "id": "09d7b99f",
   "metadata": {},
   "outputs": [],
   "source": [
    "test_perplexity = -1\n",
    "\n",
    "# YOUR CODE HERE\n",
    "\n",
    "print(f\"The model perplexity is {test_perplexity}\")"
   ]
  }
 ],
 "metadata": {
  "kernelspec": {
   "display_name": "Python 3 (ipykernel)",
   "language": "python",
   "name": "python3"
  },
  "language_info": {
   "codemirror_mode": {
    "name": "ipython",
    "version": 3
   },
   "file_extension": ".py",
   "mimetype": "text/x-python",
   "name": "python",
   "nbconvert_exporter": "python",
   "pygments_lexer": "ipython3",
   "version": "3.9.0"
  },
  "vscode": {
   "interpreter": {
    "hash": "a8ced340a52f9326f5856e1d63a73f97bd9f0a225610b549ff7b502d766a19ce"
   }
  }
 },
 "nbformat": 4,
 "nbformat_minor": 5
}
